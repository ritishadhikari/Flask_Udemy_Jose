{
 "cells": [
  {
   "cell_type": "code",
   "execution_count": 1,
   "metadata": {},
   "outputs": [],
   "source": [
    "from flask import Flask, render_template, request"
   ]
  },
  {
   "cell_type": "code",
   "execution_count": 10,
   "metadata": {},
   "outputs": [],
   "source": [
    "app = Flask(import_name= __name__, static_folder= 'static', template_folder= 'templates')\n",
    "\n",
    "@app.route('/')\n",
    "def index():\n",
    "    return render_template(template_name_or_list= 'Flask_index_74_75.html')\n",
    "\n",
    "@app.route('/reports')\n",
    "def report():\n",
    "    lower_case = False\n",
    "    upper_case = False\n",
    "    numbers = False\n",
    "    user_name = request.args.get('username')\n",
    "    \n",
    "    lower_case = any(char.islower() for char in user_name)\n",
    "    upper_case = any(char.isupper() for char in user_name)\n",
    "    numbers = user_name[-1].isdigit()\n",
    "    \n",
    "    report = lower_case and upper_case and numbers\n",
    "    \n",
    "    return render_template(template_name_or_list = 'Flask_reports_74_75.html', report = report, \n",
    "                           upper_case = upper_case, numbers = numbers)\n",
    "    \n",
    "    "
   ]
  },
  {
   "cell_type": "code",
   "execution_count": null,
   "metadata": {},
   "outputs": [
    {
     "name": "stdout",
     "output_type": "stream",
     "text": [
      " * Serving Flask app \"__main__\" (lazy loading)\n",
      " * Environment: production\n",
      "   WARNING: Do not use the development server in a production environment.\n",
      "   Use a production WSGI server instead.\n",
      " * Debug mode: on\n"
     ]
    },
    {
     "name": "stderr",
     "output_type": "stream",
     "text": [
      " * Running on http://127.0.0.1:5000/ (Press CTRL+C to quit)\n",
      "127.0.0.1 - - [18/Oct/2019 13:03:45] \"GET / HTTP/1.1\" 200 -\n",
      "127.0.0.1 - - [18/Oct/2019 13:03:51] \"GET /reports?username=Ritish HTTP/1.1\" 200 -\n",
      "127.0.0.1 - - [18/Oct/2019 13:03:55] \"GET / HTTP/1.1\" 200 -\n",
      "127.0.0.1 - - [18/Oct/2019 13:03:59] \"GET /reports?username=54 HTTP/1.1\" 200 -\n",
      "127.0.0.1 - - [18/Oct/2019 13:04:01] \"GET / HTTP/1.1\" 200 -\n",
      "127.0.0.1 - - [18/Oct/2019 13:04:06] \"GET /reports?username=Ritish1989 HTTP/1.1\" 200 -\n",
      "127.0.0.1 - - [18/Oct/2019 13:04:13] \"GET / HTTP/1.1\" 200 -\n",
      "127.0.0.1 - - [18/Oct/2019 13:09:18] \"GET /reports?username=Ritish1989 HTTP/1.1\" 200 -\n"
     ]
    }
   ],
   "source": [
    "if __name__ == \"__main__\":\n",
    "    app.run(debug = True, use_reloader = False)"
   ]
  },
  {
   "cell_type": "code",
   "execution_count": null,
   "metadata": {},
   "outputs": [],
   "source": []
  }
 ],
 "metadata": {
  "kernelspec": {
   "display_name": "Python 3",
   "language": "python",
   "name": "python3"
  },
  "language_info": {
   "codemirror_mode": {
    "name": "ipython",
    "version": 3
   },
   "file_extension": ".py",
   "mimetype": "text/x-python",
   "name": "python",
   "nbconvert_exporter": "python",
   "pygments_lexer": "ipython3",
   "version": "3.6.9"
  }
 },
 "nbformat": 4,
 "nbformat_minor": 2
}
