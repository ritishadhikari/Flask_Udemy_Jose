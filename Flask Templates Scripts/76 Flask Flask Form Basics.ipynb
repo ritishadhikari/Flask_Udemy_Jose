{
 "cells": [
  {
   "cell_type": "code",
   "execution_count": 2,
   "metadata": {},
   "outputs": [],
   "source": [
    "from flask import Flask, render_template\n",
    "from flask_wtf import FlaskForm\n",
    "from wtforms import StringField, SubmitField"
   ]
  },
  {
   "cell_type": "code",
   "execution_count": 11,
   "metadata": {},
   "outputs": [],
   "source": [
    "app = Flask(__name__)\n",
    "\n",
    "app.config['SECRET_KEY'] = 'mysecretkey'\n",
    " \n",
    "class InfoForm(FlaskForm):\n",
    "    \n",
    "    breed = StringField(\"What Breed are You?\") #This and the submit works as the label\n",
    "    submit = SubmitField('Submit')\n",
    "\n",
    "@app.route(rule = '/', methods = ['GET','POST'])\n",
    "def index():\n",
    "    breed_to_pass = False\n",
    "    form = InfoForm()\n",
    "    if form.validate_on_submit():\n",
    "        breed_to_pass = form.breed.data # Getting the input ed breed value from the flask form and storing it into breed variable \n",
    "        \n",
    "        form.breed.data = '' # after the form.breed.data value is stored inside breed variable, we are nullifying the form.breed.data\n",
    "    return render_template(template_name_or_list= 'Flask_Flask_Form_Basics_76.html', form = form, breed_to_pass = breed_to_pass)\n",
    "    "
   ]
  },
  {
   "cell_type": "code",
   "execution_count": 13,
   "metadata": {
    "scrolled": true
   },
   "outputs": [
    {
     "name": "stdout",
     "output_type": "stream",
     "text": [
      " * Serving Flask app \"__main__\" (lazy loading)\n",
      " * Environment: production\n",
      "   WARNING: Do not use the development server in a production environment.\n",
      "   Use a production WSGI server instead.\n",
      " * Debug mode: on\n"
     ]
    },
    {
     "name": "stderr",
     "output_type": "stream",
     "text": [
      " * Running on http://127.0.0.1:5000/ (Press CTRL+C to quit)\n",
      "127.0.0.1 - - [26/Apr/2020 11:41:01] \"POST / HTTP/1.1\" 200 -\n",
      "127.0.0.1 - - [26/Apr/2020 11:41:28] \"POST / HTTP/1.1\" 200 -\n"
     ]
    }
   ],
   "source": [
    "if __name__ == '__main__':\n",
    "    app.run(debug=True, use_reloader = False)"
   ]
  },
  {
   "cell_type": "markdown",
   "metadata": {},
   "source": [
    "# We fetch the data from the user input into flask form\n",
    "# we then post the recieved data from flask into the html file and display in the form as well in the normal browser\n",
    "\n",
    "# requests.args.get GETs the value from the form in browser to the python window\n",
    "# flask forms post the data from the python window to the browser and also forms"
   ]
  },
  {
   "cell_type": "code",
   "execution_count": null,
   "metadata": {},
   "outputs": [],
   "source": []
  }
 ],
 "metadata": {
  "kernelspec": {
   "display_name": "Python 3",
   "language": "python",
   "name": "python3"
  },
  "language_info": {
   "codemirror_mode": {
    "name": "ipython",
    "version": 3
   },
   "file_extension": ".py",
   "mimetype": "text/x-python",
   "name": "python",
   "nbconvert_exporter": "python",
   "pygments_lexer": "ipython3",
   "version": "3.6.9"
  }
 },
 "nbformat": 4,
 "nbformat_minor": 2
}
