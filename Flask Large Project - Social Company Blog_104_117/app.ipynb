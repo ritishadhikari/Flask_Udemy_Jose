{
 "cells": [
  {
   "cell_type": "code",
   "execution_count": 5,
   "metadata": {},
   "outputs": [],
   "source": [
    "import os"
   ]
  },
  {
   "cell_type": "code",
   "execution_count": 6,
   "metadata": {},
   "outputs": [
    {
     "data": {
      "text/plain": [
       "'C:\\\\Users\\\\ritis\\\\Documents\\\\Jupyter Notebook Files\\\\Flask\\\\Flask Large Project - Social Company Blog_104_117'"
      ]
     },
     "execution_count": 6,
     "metadata": {},
     "output_type": "execute_result"
    }
   ],
   "source": [
    "os.getcwd()"
   ]
  },
  {
   "cell_type": "code",
   "execution_count": 7,
   "metadata": {},
   "outputs": [],
   "source": [
    "from ipynb.fs.full.puppy_company_blog import app"
   ]
  },
  {
   "cell_type": "code",
   "execution_count": null,
   "metadata": {},
   "outputs": [
    {
     "name": "stdout",
     "output_type": "stream",
     "text": [
      " * Serving Flask app \"ipynb.fs.full.puppy_company_blog\" (lazy loading)\n",
      " * Environment: production\n",
      "   WARNING: Do not use the development server in a production environment.\n",
      "   Use a production WSGI server instead.\n",
      " * Debug mode: on\n"
     ]
    },
    {
     "name": "stderr",
     "output_type": "stream",
     "text": [
      " * Running on http://127.0.0.1:5000/ (Press CTRL+C to quit)\n",
      "127.0.0.1 - - [31/Oct/2019 00:03:59] \"GET / HTTP/1.1\" 200 -\n",
      "127.0.0.1 - - [31/Oct/2019 00:04:03] \"GET /info HTTP/1.1\" 200 -\n",
      "127.0.0.1 - - [31/Oct/2019 00:04:06] \"GET /info2 HTTP/1.1\" 500 -\n",
      "Traceback (most recent call last):\n",
      "  File \"C:\\Users\\ritis\\Anaconda3\\envs\\mynewflaskenv\\lib\\site-packages\\flask\\app.py\", line 2309, in __call__\n",
      "    return self.wsgi_app(environ, start_response)\n",
      "  File \"C:\\Users\\ritis\\Anaconda3\\envs\\mynewflaskenv\\lib\\site-packages\\flask\\app.py\", line 2295, in wsgi_app\n",
      "    response = self.handle_exception(e)\n",
      "  File \"C:\\Users\\ritis\\Anaconda3\\envs\\mynewflaskenv\\lib\\site-packages\\flask\\app.py\", line 1741, in handle_exception\n",
      "    reraise(exc_type, exc_value, tb)\n",
      "  File \"C:\\Users\\ritis\\Anaconda3\\envs\\mynewflaskenv\\lib\\site-packages\\flask\\_compat.py\", line 35, in reraise\n",
      "    raise value\n",
      "  File \"C:\\Users\\ritis\\Anaconda3\\envs\\mynewflaskenv\\lib\\site-packages\\flask\\app.py\", line 2292, in wsgi_app\n",
      "    response = self.full_dispatch_request()\n",
      "  File \"C:\\Users\\ritis\\Anaconda3\\envs\\mynewflaskenv\\lib\\site-packages\\flask\\app.py\", line 1815, in full_dispatch_request\n",
      "    rv = self.handle_user_exception(e)\n",
      "  File \"C:\\Users\\ritis\\Anaconda3\\envs\\mynewflaskenv\\lib\\site-packages\\flask\\app.py\", line 1713, in handle_user_exception\n",
      "    return self.handle_http_exception(e)\n",
      "  File \"C:\\Users\\ritis\\Anaconda3\\envs\\mynewflaskenv\\lib\\site-packages\\flask\\app.py\", line 1644, in handle_http_exception\n",
      "    return handler(e)\n",
      "  File \"C:\\Users\\ritis\\Documents\\Jupyter Notebook Files\\Flask\\Flask Large Project - Social Company Blog_104_117\\puppy_company_blog\\error_pages\\handlers.ipynb\", line 15, in error_404\n",
      "    \"execution_count\": 2,\n",
      "  File \"C:\\Users\\ritis\\Anaconda3\\envs\\mynewflaskenv\\lib\\site-packages\\flask\\templating.py\", line 134, in render_template\n",
      "    return _render(ctx.app.jinja_env.get_or_select_template(template_name_or_list),\n",
      "  File \"C:\\Users\\ritis\\Anaconda3\\envs\\mynewflaskenv\\lib\\site-packages\\jinja2\\environment.py\", line 869, in get_or_select_template\n",
      "    return self.get_template(template_name_or_list, parent, globals)\n",
      "  File \"C:\\Users\\ritis\\Anaconda3\\envs\\mynewflaskenv\\lib\\site-packages\\jinja2\\environment.py\", line 830, in get_template\n",
      "    return self._load_template(name, self.make_globals(globals))\n",
      "  File \"C:\\Users\\ritis\\Anaconda3\\envs\\mynewflaskenv\\lib\\site-packages\\jinja2\\environment.py\", line 804, in _load_template\n",
      "    template = self.loader.load(self, name, globals)\n",
      "  File \"C:\\Users\\ritis\\Anaconda3\\envs\\mynewflaskenv\\lib\\site-packages\\jinja2\\loaders.py\", line 125, in load\n",
      "    code = environment.compile(source, name, filename)\n",
      "  File \"C:\\Users\\ritis\\Anaconda3\\envs\\mynewflaskenv\\lib\\site-packages\\jinja2\\environment.py\", line 591, in compile\n",
      "    self.handle_exception(exc_info, source_hint=source_hint)\n",
      "  File \"C:\\Users\\ritis\\Anaconda3\\envs\\mynewflaskenv\\lib\\site-packages\\jinja2\\environment.py\", line 780, in handle_exception\n",
      "    reraise(exc_type, exc_value, tb)\n",
      "  File \"C:\\Users\\ritis\\Anaconda3\\envs\\mynewflaskenv\\lib\\site-packages\\jinja2\\_compat.py\", line 37, in reraise\n",
      "    raise value.with_traceback(tb)\n",
      "  File \"C:\\Users\\ritis\\Documents\\Jupyter Notebook Files\\Flask\\Flask Large Project - Social Company Blog_104_117\\puppy_company_blog\\templates\\error_pages\\404.html\", line 1, in template\n",
      "    {% extend 'base.html' %}\n",
      "  File \"C:\\Users\\ritis\\Anaconda3\\envs\\mynewflaskenv\\lib\\site-packages\\jinja2\\environment.py\", line 497, in _parse\n",
      "    return Parser(self, source, name, encode_filename(filename)).parse()\n",
      "  File \"C:\\Users\\ritis\\Anaconda3\\envs\\mynewflaskenv\\lib\\site-packages\\jinja2\\parser.py\", line 901, in parse\n",
      "    result = nodes.Template(self.subparse(), lineno=1)\n",
      "  File \"C:\\Users\\ritis\\Anaconda3\\envs\\mynewflaskenv\\lib\\site-packages\\jinja2\\parser.py\", line 883, in subparse\n",
      "    rv = self.parse_statement()\n",
      "  File \"C:\\Users\\ritis\\Anaconda3\\envs\\mynewflaskenv\\lib\\site-packages\\jinja2\\parser.py\", line 144, in parse_statement\n",
      "    self.fail_unknown_tag(token.value, token.lineno)\n",
      "  File \"C:\\Users\\ritis\\Anaconda3\\envs\\mynewflaskenv\\lib\\site-packages\\jinja2\\parser.py\", line 97, in fail_unknown_tag\n",
      "    return self._fail_ut_eof(name, self._end_token_stack, lineno)\n",
      "  File \"C:\\Users\\ritis\\Anaconda3\\envs\\mynewflaskenv\\lib\\site-packages\\jinja2\\parser.py\", line 90, in _fail_ut_eof\n",
      "    self.fail(' '.join(message), lineno)\n",
      "  File \"C:\\Users\\ritis\\Anaconda3\\envs\\mynewflaskenv\\lib\\site-packages\\jinja2\\parser.py\", line 59, in fail\n",
      "    raise exc(msg, lineno, self.name, self.filename)\n",
      "jinja2.exceptions.TemplateSyntaxError: Encountered unknown tag 'extend'.\n",
      "127.0.0.1 - - [31/Oct/2019 00:04:06] \"GET /info2?__debugger__=yes&cmd=resource&f=jquery.js HTTP/1.1\" 200 -\n",
      "127.0.0.1 - - [31/Oct/2019 00:04:06] \"GET /info2?__debugger__=yes&cmd=resource&f=style.css HTTP/1.1\" 200 -\n",
      "127.0.0.1 - - [31/Oct/2019 00:04:06] \"GET /info2?__debugger__=yes&cmd=resource&f=debugger.js HTTP/1.1\" 200 -\n",
      "127.0.0.1 - - [31/Oct/2019 00:04:06] \"GET /info2?__debugger__=yes&cmd=resource&f=ubuntu.ttf HTTP/1.1\" 200 -\n",
      "127.0.0.1 - - [31/Oct/2019 00:04:06] \"GET /info2?__debugger__=yes&cmd=resource&f=console.png HTTP/1.1\" 200 -\n",
      "127.0.0.1 - - [31/Oct/2019 00:04:24] \"GET /info2 HTTP/1.1\" 404 -\n",
      "127.0.0.1 - - [31/Oct/2019 00:04:26] \"GET /info HTTP/1.1\" 200 -\n",
      "127.0.0.1 - - [31/Oct/2019 00:04:28] \"GET /info2 HTTP/1.1\" 404 -\n",
      "127.0.0.1 - - [31/Oct/2019 00:04:33] \"GET /info HTTP/1.1\" 200 -\n",
      "127.0.0.1 - - [31/Oct/2019 00:04:35] \"GET /info HTTP/1.1\" 200 -\n",
      "127.0.0.1 - - [31/Oct/2019 00:04:37] \"GET /infod HTTP/1.1\" 404 -\n",
      "127.0.0.1 - - [31/Oct/2019 00:04:38] \"GET /info HTTP/1.1\" 200 -\n"
     ]
    }
   ],
   "source": [
    "app.run(debug = True, use_reloader = False)"
   ]
  },
  {
   "cell_type": "code",
   "execution_count": null,
   "metadata": {},
   "outputs": [],
   "source": []
  }
 ],
 "metadata": {
  "kernelspec": {
   "display_name": "Python 3",
   "language": "python",
   "name": "python3"
  },
  "language_info": {
   "codemirror_mode": {
    "name": "ipython",
    "version": 3
   },
   "file_extension": ".py",
   "mimetype": "text/x-python",
   "name": "python",
   "nbconvert_exporter": "python",
   "pygments_lexer": "ipython3",
   "version": "3.6.9"
  }
 },
 "nbformat": 4,
 "nbformat_minor": 2
}
