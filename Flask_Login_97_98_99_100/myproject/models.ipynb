{
 "cells": [
  {
   "cell_type": "code",
   "execution_count": 1,
   "metadata": {},
   "outputs": [],
   "source": [
    "import os"
   ]
  },
  {
   "cell_type": "code",
   "execution_count": 2,
   "metadata": {},
   "outputs": [
    {
     "data": {
      "text/plain": [
       "'C:\\\\Users\\\\ritis\\\\Documents\\\\Jupyter Notebook Files\\\\Flask\\\\Flask_Login_97_98_99_100\\\\myproject'"
      ]
     },
     "execution_count": 2,
     "metadata": {},
     "output_type": "execute_result"
    }
   ],
   "source": [
    "os.getcwd()"
   ]
  },
  {
   "cell_type": "code",
   "execution_count": 3,
   "metadata": {},
   "outputs": [],
   "source": [
    "os.chdir(path = 'C:\\\\Users\\\\ritis\\\\Documents\\\\Jupyter Notebook Files\\\\Flask\\\\Flask_Login_97_98_99_100')"
   ]
  },
  {
   "cell_type": "code",
   "execution_count": 4,
   "metadata": {},
   "outputs": [],
   "source": [
    "from ipynb.fs.full.myproject import DB, login_manager\n",
    "from werkzeug.security import generate_password_hash, check_password_hash\n",
    "from flask_login import UserMixin"
   ]
  },
  {
   "cell_type": "code",
   "execution_count": 5,
   "metadata": {},
   "outputs": [],
   "source": [
    "#UserMixing has all the features of logging in Users and Taking Care of them automatically.\n",
    "#Inheriting both the DB.Model class and also UserMixin Class\n",
    "\n",
    "class User(DB.Model, UserMixin):\n",
    "    \n",
    "    __tablename__ = 'Users'\n",
    "    \n",
    "    id=DB.Column(DB.Integer,primary_key=True)\n",
    "    email=DB.Column(DB.String(length=64),unique=True,index=True)\n",
    "    username=DB.Column(DB.String(length=64),unique=True,index=True)\n",
    "    password_hash=DB.Column(DB.String(length=150))\n",
    "    \n",
    "    def __init__(self,email,username,password):\n",
    "        self.email=email\n",
    "        self.username=username\n",
    "        self.password_hash=generate_password_hash(password=password)\n",
    "      \n",
    "    def check_password(self,password_dur_login):\n",
    "        return check_password_hash(pwhash=self.password_hash,password=password_dur_login)"
   ]
  },
  {
   "cell_type": "code",
   "execution_count": 6,
   "metadata": {},
   "outputs": [],
   "source": [
    "#To Extract the User ID and display the contents of any user.\n",
    "@login_manager.user_loader\n",
    "def load_user(user_id):\n",
    "    return User.query.get(ident=user_id)"
   ]
  },
  {
   "cell_type": "code",
   "execution_count": null,
   "metadata": {},
   "outputs": [],
   "source": []
  }
 ],
 "metadata": {
  "kernelspec": {
   "display_name": "Python 3",
   "language": "python",
   "name": "python3"
  },
  "language_info": {
   "codemirror_mode": {
    "name": "ipython",
    "version": 3
   },
   "file_extension": ".py",
   "mimetype": "text/x-python",
   "name": "python",
   "nbconvert_exporter": "python",
   "pygments_lexer": "ipython3",
   "version": "3.6.9"
  }
 },
 "nbformat": 4,
 "nbformat_minor": 2
}
