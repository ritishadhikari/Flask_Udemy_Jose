{
 "cells": [
  {
   "cell_type": "code",
   "execution_count": 1,
   "metadata": {},
   "outputs": [],
   "source": [
    "import os\n",
    "os.chdir(path = 'C:\\\\Users\\\\ritis\\\\Documents\\\\Jupyter Notebook Files\\\\Flask\\\\Flask_Login_97_98_99_100')"
   ]
  },
  {
   "cell_type": "code",
   "execution_count": 3,
   "metadata": {},
   "outputs": [
    {
     "data": {
      "text/plain": [
       "'C:\\\\Users\\\\ritis\\\\Documents\\\\Jupyter Notebook Files\\\\Flask\\\\Flask_Login_97_98_99_100'"
      ]
     },
     "execution_count": 3,
     "metadata": {},
     "output_type": "execute_result"
    }
   ],
   "source": [
    "os.getcwd()"
   ]
  },
  {
   "cell_type": "code",
   "execution_count": 4,
   "metadata": {},
   "outputs": [],
   "source": [
    "from flask_wtf import FlaskForm\n",
    "from wtforms import StringField, PasswordField, ValidationError, SubmitField\n",
    "from wtforms.validators import DataRequired, Email, EqualTo\n",
    "from ipynb.fs.full.myproject.models import User"
   ]
  },
  {
   "cell_type": "code",
   "execution_count": 7,
   "metadata": {},
   "outputs": [],
   "source": [
    "#### Registration Form ####\n",
    "class RegistrationForm(FlaskForm):\n",
    "    email = StringField('Email', validators = [DataRequired(), Email()])\n",
    "    username = StringField('Username', validators = [DataRequired()])\n",
    "    password = PasswordField('Password', validators = [DataRequired(), EqualTo(fieldname = 'pass_confirm',message = 'Passwords must match')])\n",
    "    pass_confirm =  PasswordField('Confirm Password', validators = [DataRequired()])\n",
    "    submit = SubmitField('Register')\n",
    "    \n",
    "    def check_email(self, email_id):\n",
    "        if User.query.filter_by(email = email_id.data).first():\n",
    "            raise ValidationError(\"Email Id already exists\")\n",
    "    \n",
    "    def check_username(self, user_id):\n",
    "        if User.query.filter_by(username = user_id.data).first():\n",
    "            raise ValidationError(\"Username already Taken. Please opt for a separate User Id\")\n",
    "        "
   ]
  },
  {
   "cell_type": "code",
   "execution_count": 8,
   "metadata": {},
   "outputs": [],
   "source": [
    "#### Login Form ####\n",
    "class LoginForm(FlaskForm):\n",
    "    email = StringField(\"Email\", validators = [DataRequired(), Email()])\n",
    "    password = PasswordField(\"Password\", validators = [DataRequired()])\n",
    "    submit = SubmitField(\"Submit\")\n",
    "    "
   ]
  },
  {
   "cell_type": "code",
   "execution_count": null,
   "metadata": {},
   "outputs": [],
   "source": []
  }
 ],
 "metadata": {
  "kernelspec": {
   "display_name": "Python 3",
   "language": "python",
   "name": "python3"
  },
  "language_info": {
   "codemirror_mode": {
    "name": "ipython",
    "version": 3
   },
   "file_extension": ".py",
   "mimetype": "text/x-python",
   "name": "python",
   "nbconvert_exporter": "python",
   "pygments_lexer": "ipython3",
   "version": "3.6.9"
  }
 },
 "nbformat": 4,
 "nbformat_minor": 2
}
