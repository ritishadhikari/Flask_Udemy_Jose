{
 "cells": [
  {
   "cell_type": "code",
   "execution_count": 1,
   "metadata": {},
   "outputs": [],
   "source": [
    "from ipynb.fs.full.User_Authoriazation_Flask_121 import User"
   ]
  },
  {
   "cell_type": "code",
   "execution_count": 2,
   "metadata": {},
   "outputs": [],
   "source": [
    "users = [User(id = 1, username= 'Ritish', password= 'hello'), \n",
    "         User(id = 2, username= 'Mimi', password= 'secret')]"
   ]
  },
  {
   "cell_type": "code",
   "execution_count": 3,
   "metadata": {},
   "outputs": [],
   "source": [
    "#create mapping based of their id or name to access users\n",
    "\n",
    "username_table = {u.username : u for u in users}\n",
    "\n",
    "userid_table = {u.id : u for u in users}\n",
    "\n",
    "#authenticate - checks if user exists, and if so then return user\n",
    "def authenticate(username, password):\n",
    "    user = username_table.get(username, None)\n",
    "    if user and password == user.password: \n",
    "        return user\n",
    "    \n",
    "#identity\n",
    "def identity(payload):\n",
    "    user_id = payload['identity']\n",
    "    return userid_table.get(user_id, None)"
   ]
  },
  {
   "cell_type": "code",
   "execution_count": null,
   "metadata": {},
   "outputs": [],
   "source": []
  }
 ],
 "metadata": {
  "kernelspec": {
   "display_name": "Python 3",
   "language": "python",
   "name": "python3"
  },
  "language_info": {
   "codemirror_mode": {
    "name": "ipython",
    "version": 3
   },
   "file_extension": ".py",
   "mimetype": "text/x-python",
   "name": "python",
   "nbconvert_exporter": "python",
   "pygments_lexer": "ipython3",
   "version": "3.6.9"
  }
 },
 "nbformat": 4,
 "nbformat_minor": 2
}
