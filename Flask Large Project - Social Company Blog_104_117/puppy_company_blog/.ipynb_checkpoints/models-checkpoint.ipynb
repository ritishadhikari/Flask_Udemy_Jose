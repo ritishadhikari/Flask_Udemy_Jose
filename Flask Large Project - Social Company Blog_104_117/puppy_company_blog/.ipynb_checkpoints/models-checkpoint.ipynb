{
 "cells": [
  {
   "cell_type": "code",
   "execution_count": 1,
   "metadata": {},
   "outputs": [],
   "source": [
    "import os"
   ]
  },
  {
   "cell_type": "code",
   "execution_count": 2,
   "metadata": {},
   "outputs": [
    {
     "data": {
      "text/plain": [
       "'C:\\\\Users\\\\ritis\\\\Documents\\\\Jupyter Notebook Files\\\\Flask\\\\Flask Large Project - Social Company Blog_104_117\\\\puppy_company_blog'"
      ]
     },
     "execution_count": 2,
     "metadata": {},
     "output_type": "execute_result"
    }
   ],
   "source": [
    "os.getcwd()"
   ]
  },
  {
   "cell_type": "code",
   "execution_count": 3,
   "metadata": {},
   "outputs": [],
   "source": [
    "os.chdir(path = \"C:\\\\Users\\\\ritis\\\\Documents\\\\Jupyter Notebook Files\\\\Flask\\\\Flask Large Project - Social Company Blog_104_117\")"
   ]
  },
  {
   "cell_type": "code",
   "execution_count": 4,
   "metadata": {},
   "outputs": [],
   "source": [
    "from ipynb.fs.full.puppy_company_blog import db, loginmanager\n",
    "from werkzeug.security import check_password_hash, generate_password_hash\n",
    "from flask_login import UserMixin\n",
    "from datetime import datetime"
   ]
  },
  {
   "cell_type": "code",
   "execution_count": 5,
   "metadata": {},
   "outputs": [],
   "source": [
    "class User(db.Model, UserMixin):\n",
    "    __tablename__ = 'users'\n",
    "    id = db.Column(db.Integer, primary_key = True)\n",
    "    profile_image = db.Column(db.String(length = 64), nullable = False, default = 'default_profile.png')\n",
    "    email = db.Column(db.String(length = 64), unique = True, index = True)\n",
    "    username = db.Column(db.String(length = 64), unique = True, index = True)\n",
    "    password_hash = db.Column(db.String(length = 128))\n",
    "    \n",
    "    posts = db.relationship(argument= 'BlogPost', backref= 'author', lazy = True)\n",
    "    \n",
    "    def __init__(self, email, username, password):\n",
    "        self.email = email\n",
    "        self.username = username\n",
    "        self.password_hash = generate_password_hash(password=password)\n",
    "    \n",
    "    def check_password(self, password):\n",
    "        return check_password_hash(pwhash = self.password_hash, password=password)\n",
    "    \n",
    "    def __repr__(self):\n",
    "        return 'Username : {self.username}'"
   ]
  },
  {
   "cell_type": "code",
   "execution_count": 6,
   "metadata": {},
   "outputs": [],
   "source": [
    "class Blogpost(db.Model):\n",
    "    \n",
    "    users = db.relationship(argument= User)\n",
    "    \n",
    "    id = db.Column(db.Integer, primary_key = True)\n",
    "    user_id = db.Column(db.Integer, db.ForeignKey(column = 'users.id'), nullable = False)\n",
    "    date = db.Column(db.DateTime, nullable = False, default = datetime.utcnow )\n",
    "    title = db.column(db.String(length = 140))\n",
    "    text = db.Column(db.Text(length = 250))\n",
    "    \n",
    "    def __init__(self, title, text, user_id):\n",
    "        self.title = title\n",
    "        self.text = text\n",
    "        self.user_id = user_id\n",
    "    \n",
    "    def __repr__(self):\n",
    "        return f\"Post ID: {self.id} -- Date: {self.date} -- Title: {self.title}\""
   ]
  },
  {
   "cell_type": "code",
   "execution_count": 7,
   "metadata": {},
   "outputs": [],
   "source": [
    "@loginmanager.user_loader\n",
    "def load_user(user_id):\n",
    "    return User.query.get(user_id)"
   ]
  },
  {
   "cell_type": "code",
   "execution_count": null,
   "metadata": {},
   "outputs": [],
   "source": []
  }
 ],
 "metadata": {
  "kernelspec": {
   "display_name": "Python 3",
   "language": "python",
   "name": "python3"
  },
  "language_info": {
   "codemirror_mode": {
    "name": "ipython",
    "version": 3
   },
   "file_extension": ".py",
   "mimetype": "text/x-python",
   "name": "python",
   "nbconvert_exporter": "python",
   "pygments_lexer": "ipython3",
   "version": "3.6.9"
  }
 },
 "nbformat": 4,
 "nbformat_minor": 2
}
