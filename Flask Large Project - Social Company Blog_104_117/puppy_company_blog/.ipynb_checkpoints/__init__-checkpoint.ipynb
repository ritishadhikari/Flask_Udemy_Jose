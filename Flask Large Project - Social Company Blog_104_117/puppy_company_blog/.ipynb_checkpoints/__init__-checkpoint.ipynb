{
 "cells": [
  {
   "cell_type": "code",
   "execution_count": 1,
   "metadata": {},
   "outputs": [],
   "source": [
    "from flask import Flask"
   ]
  },
  {
   "cell_type": "code",
   "execution_count": 2,
   "metadata": {},
   "outputs": [],
   "source": [
    "import os"
   ]
  },
  {
   "cell_type": "code",
   "execution_count": 3,
   "metadata": {},
   "outputs": [
    {
     "data": {
      "text/plain": [
       "'C:\\\\Users\\\\ritis\\\\Documents\\\\Jupyter Notebook Files\\\\Flask\\\\Flask Large Project - Social Company Blog_104_117\\\\puppy_company_blog'"
      ]
     },
     "execution_count": 3,
     "metadata": {},
     "output_type": "execute_result"
    }
   ],
   "source": [
    "os.getcwd()"
   ]
  },
  {
   "cell_type": "code",
   "execution_count": 4,
   "metadata": {},
   "outputs": [],
   "source": [
    "os.chdir(path = \"C:\\\\Users\\\\ritis\\\\Documents\\\\Jupyter Notebook Files\\\\Flask\\\\Flask Large Project - Social Company Blog_104_117\")"
   ]
  },
  {
   "cell_type": "code",
   "execution_count": 5,
   "metadata": {},
   "outputs": [
    {
     "data": {
      "text/plain": [
       "'C:\\\\Users\\\\ritis\\\\Documents\\\\Jupyter Notebook Files\\\\Flask\\\\Flask Large Project - Social Company Blog_104_117'"
      ]
     },
     "execution_count": 5,
     "metadata": {},
     "output_type": "execute_result"
    }
   ],
   "source": [
    "os.getcwd()"
   ]
  },
  {
   "cell_type": "code",
   "execution_count": 8,
   "metadata": {},
   "outputs": [],
   "source": [
    "from ipynb.fs.full.puppy_company_blog.core.views import core\n",
    "from ipynb.fs.full.puppy_company_blog.error_pages.handlers import error_pages\n",
    "from flask_sqlalchemy import SQLAlchemy\n",
    "from flask_login import LoginManager\n",
    "from ipynb.fs.full.puppy_company_blog.users.views import users"
   ]
  },
  {
   "cell_type": "code",
   "execution_count": 9,
   "metadata": {},
   "outputs": [],
   "source": [
    "app = Flask (__name__)\n",
    "\n",
    "\n",
    "\n",
    "#################################################\n",
    "############## Database Setup ###################\n",
    "#################################################\n",
    "\n",
    "basedir = os.path.abspath(path = os.path.dirname(p = '__file__'))\n",
    "app.config['SQLALCHEMY_DATABASE_URI'] = \"sqlite:///\" + os.path.join(basedir, \"fullprojdata.sqlite\")\n",
    "app.config['SQLALCHEMY_TRACK_MODIFICATIONS'] = False\n",
    "db = SQLAlchemy(app = app)\n",
    "\n",
    "loginmanager = LoginManager()\n",
    "loginmanager.init_app(app = app)\n",
    "loginmanager.login_view = 'users.login'\n",
    "\n",
    "app.register_blueprint(blueprint = core)\n",
    "app.register_blueprint(blueprint = error_pages)\n",
    "app.register_blueprint(blueprint = users)"
   ]
  },
  {
   "cell_type": "code",
   "execution_count": null,
   "metadata": {},
   "outputs": [],
   "source": []
  }
 ],
 "metadata": {
  "kernelspec": {
   "display_name": "Python 3",
   "language": "python",
   "name": "python3"
  },
  "language_info": {
   "codemirror_mode": {
    "name": "ipython",
    "version": 3
   },
   "file_extension": ".py",
   "mimetype": "text/x-python",
   "name": "python",
   "nbconvert_exporter": "python",
   "pygments_lexer": "ipython3",
   "version": "3.6.9"
  }
 },
 "nbformat": 4,
 "nbformat_minor": 2
}
