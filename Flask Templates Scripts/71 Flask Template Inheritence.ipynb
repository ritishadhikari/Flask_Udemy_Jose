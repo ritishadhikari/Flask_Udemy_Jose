{
 "cells": [
  {
   "cell_type": "code",
   "execution_count": 1,
   "metadata": {},
   "outputs": [],
   "source": [
    "from flask import Flask, render_template"
   ]
  },
  {
   "cell_type": "code",
   "execution_count": 2,
   "metadata": {},
   "outputs": [],
   "source": [
    "app = Flask(import_name = __name__, static_folder= 'static', template_folder= 'templates')\n",
    "\n",
    "@app.route(rule = '/')\n",
    "def index():\n",
    "    return render_template(template_name_or_list= 'Flask_home_71.html')\n",
    "\n",
    "@app.route(rule = '/puppy/<name>')\n",
    "def pup_name(name):\n",
    "    return render_template(template_name_or_list= 'Flask_puppy_71.html', name = name)"
   ]
  },
  {
   "cell_type": "code",
   "execution_count": null,
   "metadata": {},
   "outputs": [
    {
     "name": "stdout",
     "output_type": "stream",
     "text": [
      " * Serving Flask app \"__main__\" (lazy loading)\n",
      " * Environment: production\n",
      "   WARNING: Do not use the development server in a production environment.\n",
      "   Use a production WSGI server instead.\n",
      " * Debug mode: on\n"
     ]
    },
    {
     "name": "stderr",
     "output_type": "stream",
     "text": [
      " * Running on http://127.0.0.1:5000/ (Press CTRL+C to quit)\n",
      "127.0.0.1 - - [25/Apr/2020 17:33:13] \"GET / HTTP/1.1\" 200 -\n",
      "127.0.0.1 - - [25/Apr/2020 17:33:56] \"GET /puppy/ritish HTTP/1.1\" 200 -\n",
      "127.0.0.1 - - [25/Apr/2020 17:37:21] \"GET / HTTP/1.1\" 200 -\n",
      "127.0.0.1 - - [25/Apr/2020 17:37:45] \"GET / HTTP/1.1\" 200 -\n",
      "127.0.0.1 - - [25/Apr/2020 17:38:37] \"GET /puppy/ritish HTTP/1.1\" 200 -\n",
      "127.0.0.1 - - [25/Apr/2020 17:40:26] \"GET /puppy/ritish HTTP/1.1\" 200 -\n",
      "127.0.0.1 - - [25/Apr/2020 17:40:27] \"GET /puppy/ritish HTTP/1.1\" 200 -\n",
      "127.0.0.1 - - [25/Apr/2020 17:40:27] \"GET /puppy/ritish HTTP/1.1\" 200 -\n"
     ]
    }
   ],
   "source": [
    "if __name__ == '__main__':\n",
    "    app.run(debug = True, use_reloader = False)"
   ]
  },
  {
   "cell_type": "code",
   "execution_count": null,
   "metadata": {},
   "outputs": [],
   "source": []
  }
 ],
 "metadata": {
  "kernelspec": {
   "display_name": "Python 3",
   "language": "python",
   "name": "python3"
  },
  "language_info": {
   "codemirror_mode": {
    "name": "ipython",
    "version": 3
   },
   "file_extension": ".py",
   "mimetype": "text/x-python",
   "name": "python",
   "nbconvert_exporter": "python",
   "pygments_lexer": "ipython3",
   "version": "3.6.9"
  }
 },
 "nbformat": 4,
 "nbformat_minor": 2
}
