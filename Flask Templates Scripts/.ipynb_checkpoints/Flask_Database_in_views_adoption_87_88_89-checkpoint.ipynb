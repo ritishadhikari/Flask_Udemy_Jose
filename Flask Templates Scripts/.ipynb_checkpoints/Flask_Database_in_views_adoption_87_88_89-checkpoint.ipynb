{
 "cells": [
  {
   "cell_type": "code",
   "execution_count": 2,
   "metadata": {},
   "outputs": [],
   "source": [
    "import os\n",
    "from ipynb.fs.full.Flask_Database_in_views_forms_87_88_89 import Addform, DelForm\n",
    "from flask import Flask, render_template, redirect, url_for\n",
    "from flask_sqlalchemy import SQLAlchemy\n",
    "from flask_migrate import Migrate"
   ]
  },
  {
   "cell_type": "code",
   "execution_count": 3,
   "metadata": {},
   "outputs": [],
   "source": [
    "app = Flask(import_name= __name__)\n",
    "\n",
    "app.config['SECRET_KEY'] = 'mysecretkey'\n",
    "\n",
    "#----------------------------------------------------------------------#\n",
    "                        #SQL SECTION#\n",
    "#----------------------------------------------------------------------#\n",
    "\n",
    "base_dir = os.path.abspath(path = os.path.dirname(p = \"__file__\"))\n",
    "app.config['SQLALCHEMY_DATABASE_URI'] ='sqlite:///' + os.path.join(base_dir,'flask_87_88_89.sqlite')\n",
    "app.config['SQLALCHEMY_TRACK_MODIFICATIONS'] = False\n",
    "\n",
    "db = SQLAlchemy(app = app)\n",
    "Migrate(app=app, db=db)\n",
    "\n",
    "\n",
    "class Puppy(db.Model):\n",
    "    \n",
    "    __tablename__ = 'puppies'\n",
    "    id = db.Column(db.Integer, primary_key = True)\n",
    "    name = db.Column(db.Text)\n",
    "    \n",
    "    def __init__(self, name):\n",
    "        self.name = name\n",
    "    \n",
    "    def __repr__(self):\n",
    "        return f\"Puppy Name : {self.name}\"\n",
    "\n",
    "#----------------------------------------------------------------------#    \n",
    "                     #Working on the views#\n",
    "#----------------------------------------------------------------------#\n",
    "\n",
    "@app.route(rule = '/')\n",
    "def index():\n",
    "    return render_template(template_name_or_list='Home_87_88_89.html')\n",
    "\n",
    "@app.route(rule = '/add', methods = ['GET','POST'])\n",
    "def add_pup():\n",
    "    form = Addform()\n",
    "    if form.validate_on_submit():\n",
    "        name = form.name.data\n",
    "        new_pup = Puppy(name = name)\n",
    "        db.session.add(new_pup)\n",
    "        db.session.commit()\n",
    "        return redirect(location=url_for(endpoint = 'list_pup'))\n",
    "    return render_template('Add_87_88_89.html', form = form)\n",
    "    \n",
    "@app.route(rule = '/list')\n",
    "def list_pup():\n",
    "    puppies = Puppy.query.all()\n",
    "    return render_template(template_name_or_list= 'List_87_88_89.html', puppies = puppies)\n",
    "\n",
    "@app.route(rule = '/delete', methods = ['GET', 'POST'])\n",
    "def del_pup():\n",
    "    form = DelForm()\n",
    "    if form.validate_on_submit():\n",
    "        id = form.id.data\n",
    "        pup = Puppy.query.get(ident=id)\n",
    "        db.session.delete(pup)\n",
    "        db.session.commit()\n",
    "        return redirect(location=url_for(endpoint = 'list_pup'))\n",
    "    return render_template(template_name_or_list = 'Delete_87_88_89.html', form = form)\n"
   ]
  },
  {
   "cell_type": "code",
   "execution_count": 4,
   "metadata": {},
   "outputs": [],
   "source": [
    "db.create_all()"
   ]
  },
  {
   "cell_type": "code",
   "execution_count": 5,
   "metadata": {},
   "outputs": [
    {
     "name": "stdout",
     "output_type": "stream",
     "text": [
      " * Serving Flask app \"__main__\" (lazy loading)\n",
      " * Environment: production\n",
      "   WARNING: Do not use the development server in a production environment.\n",
      "   Use a production WSGI server instead.\n",
      " * Debug mode: on\n"
     ]
    },
    {
     "name": "stderr",
     "output_type": "stream",
     "text": [
      " * Running on http://127.0.0.1:5000/ (Press CTRL+C to quit)\n",
      "127.0.0.1 - - [24/Oct/2019 00:54:50] \"GET / HTTP/1.1\" 200 -\n",
      "127.0.0.1 - - [24/Oct/2019 00:54:51] \"GET /list HTTP/1.1\" 200 -\n",
      "127.0.0.1 - - [24/Oct/2019 00:54:53] \"GET /add HTTP/1.1\" 200 -\n",
      "127.0.0.1 - - [24/Oct/2019 00:55:04] \"POST /add HTTP/1.1\" 302 -\n",
      "127.0.0.1 - - [24/Oct/2019 00:55:04] \"GET /list HTTP/1.1\" 200 -\n",
      "127.0.0.1 - - [24/Oct/2019 00:55:06] \"GET /add HTTP/1.1\" 200 -\n",
      "127.0.0.1 - - [24/Oct/2019 00:55:15] \"POST /add HTTP/1.1\" 302 -\n",
      "127.0.0.1 - - [24/Oct/2019 00:55:15] \"GET /list HTTP/1.1\" 200 -\n",
      "127.0.0.1 - - [24/Oct/2019 00:55:16] \"GET /delete HTTP/1.1\" 200 -\n",
      "127.0.0.1 - - [24/Oct/2019 00:55:20] \"POST /delete HTTP/1.1\" 302 -\n",
      "127.0.0.1 - - [24/Oct/2019 00:55:20] \"GET /list HTTP/1.1\" 200 -\n"
     ]
    }
   ],
   "source": [
    "if __name__ == '__main__':\n",
    "    app.run(debug = True, use_reloader = False)"
   ]
  },
  {
   "cell_type": "code",
   "execution_count": null,
   "metadata": {},
   "outputs": [],
   "source": []
  }
 ],
 "metadata": {
  "kernelspec": {
   "display_name": "Python 3",
   "language": "python",
   "name": "python3"
  },
  "language_info": {
   "codemirror_mode": {
    "name": "ipython",
    "version": 3
   },
   "file_extension": ".py",
   "mimetype": "text/x-python",
   "name": "python",
   "nbconvert_exporter": "python",
   "pygments_lexer": "ipython3",
   "version": "3.6.9"
  }
 },
 "nbformat": 4,
 "nbformat_minor": 2
}
