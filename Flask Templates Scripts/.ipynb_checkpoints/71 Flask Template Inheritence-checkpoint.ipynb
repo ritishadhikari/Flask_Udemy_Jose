{
 "cells": [
  {
   "cell_type": "code",
   "execution_count": 1,
   "metadata": {},
   "outputs": [],
   "source": [
    "from flask import Flask, render_template"
   ]
  },
  {
   "cell_type": "code",
   "execution_count": 2,
   "metadata": {},
   "outputs": [],
   "source": [
    "app = Flask(import_name = __name__, static_folder= 'static', template_folder= 'templates')\n",
    "\n",
    "@app.route(rule = '/')\n",
    "def index():\n",
    "    return render_template(template_name_or_list= 'Flask_home_71.html')\n",
    "\n",
    "@app.route(rule = '/puppy/<name>')\n",
    "def pup_name(name):\n",
    "    return render_template(template_name_or_list= 'Flask_puppy_71.html', name = name)"
   ]
  },
  {
   "cell_type": "code",
   "execution_count": 3,
   "metadata": {},
   "outputs": [
    {
     "name": "stdout",
     "output_type": "stream",
     "text": [
      " * Serving Flask app \"__main__\" (lazy loading)\n",
      " * Environment: production\n",
      "   WARNING: Do not use the development server in a production environment.\n",
      "   Use a production WSGI server instead.\n",
      " * Debug mode: on\n"
     ]
    },
    {
     "name": "stderr",
     "output_type": "stream",
     "text": [
      " * Running on http://127.0.0.1:5000/ (Press CTRL+C to quit)\n",
      "127.0.0.1 - - [17/Oct/2019 19:03:28] \"GET / HTTP/1.1\" 500 -\n",
      "Traceback (most recent call last):\n",
      "  File \"C:\\Users\\ritis\\Anaconda3\\envs\\mynewflaskenv\\lib\\site-packages\\flask\\app.py\", line 2309, in __call__\n",
      "    return self.wsgi_app(environ, start_response)\n",
      "  File \"C:\\Users\\ritis\\Anaconda3\\envs\\mynewflaskenv\\lib\\site-packages\\flask\\app.py\", line 2295, in wsgi_app\n",
      "    response = self.handle_exception(e)\n",
      "  File \"C:\\Users\\ritis\\Anaconda3\\envs\\mynewflaskenv\\lib\\site-packages\\flask\\app.py\", line 1741, in handle_exception\n",
      "    reraise(exc_type, exc_value, tb)\n",
      "  File \"C:\\Users\\ritis\\Anaconda3\\envs\\mynewflaskenv\\lib\\site-packages\\flask\\_compat.py\", line 35, in reraise\n",
      "    raise value\n",
      "  File \"C:\\Users\\ritis\\Anaconda3\\envs\\mynewflaskenv\\lib\\site-packages\\flask\\app.py\", line 2292, in wsgi_app\n",
      "    response = self.full_dispatch_request()\n",
      "  File \"C:\\Users\\ritis\\Anaconda3\\envs\\mynewflaskenv\\lib\\site-packages\\flask\\app.py\", line 1816, in full_dispatch_request\n",
      "    return self.finalize_request(rv)\n",
      "  File \"C:\\Users\\ritis\\Anaconda3\\envs\\mynewflaskenv\\lib\\site-packages\\flask\\app.py\", line 1831, in finalize_request\n",
      "    response = self.make_response(rv)\n",
      "  File \"C:\\Users\\ritis\\Anaconda3\\envs\\mynewflaskenv\\lib\\site-packages\\flask\\app.py\", line 1957, in make_response\n",
      "    'The view function did not return a valid response. The'\n",
      "TypeError: The view function did not return a valid response. The function either returned None or ended without a return statement.\n",
      "127.0.0.1 - - [17/Oct/2019 19:03:28] \"GET /?__debugger__=yes&cmd=resource&f=debugger.js HTTP/1.1\" 200 -\n",
      "127.0.0.1 - - [17/Oct/2019 19:03:28] \"GET /?__debugger__=yes&cmd=resource&f=style.css HTTP/1.1\" 200 -\n",
      "127.0.0.1 - - [17/Oct/2019 19:03:28] \"GET /?__debugger__=yes&cmd=resource&f=jquery.js HTTP/1.1\" 200 -\n",
      "127.0.0.1 - - [17/Oct/2019 19:03:28] \"GET /?__debugger__=yes&cmd=resource&f=ubuntu.ttf HTTP/1.1\" 200 -\n",
      "127.0.0.1 - - [17/Oct/2019 19:03:28] \"GET /?__debugger__=yes&cmd=resource&f=console.png HTTP/1.1\" 200 -\n"
     ]
    }
   ],
   "source": [
    "if __name__ == '__main__':\n",
    "    app.run(debug = True, use_reloader = False)"
   ]
  },
  {
   "cell_type": "code",
   "execution_count": null,
   "metadata": {},
   "outputs": [],
   "source": []
  }
 ],
 "metadata": {
  "kernelspec": {
   "display_name": "Python 3",
   "language": "python",
   "name": "python3"
  },
  "language_info": {
   "codemirror_mode": {
    "name": "ipython",
    "version": 3
   },
   "file_extension": ".py",
   "mimetype": "text/x-python",
   "name": "python",
   "nbconvert_exporter": "python",
   "pygments_lexer": "ipython3",
   "version": "3.6.9"
  }
 },
 "nbformat": 4,
 "nbformat_minor": 2
}
