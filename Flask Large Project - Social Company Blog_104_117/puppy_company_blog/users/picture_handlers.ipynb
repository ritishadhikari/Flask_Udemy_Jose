{
 "cells": [
  {
   "cell_type": "code",
   "execution_count": 1,
   "metadata": {},
   "outputs": [],
   "source": [
    "import os"
   ]
  },
  {
   "cell_type": "code",
   "execution_count": 17,
   "metadata": {},
   "outputs": [
    {
     "data": {
      "text/plain": [
       "'C:\\\\Users\\\\ritis\\\\Documents\\\\Jupyter Notebook Files\\\\Flask\\\\Flask Large Project - Social Company Blog_104_117'"
      ]
     },
     "execution_count": 17,
     "metadata": {},
     "output_type": "execute_result"
    }
   ],
   "source": [
    "os.getcwd()"
   ]
  },
  {
   "cell_type": "code",
   "execution_count": 18,
   "metadata": {},
   "outputs": [],
   "source": [
    "os.chdir('C:\\\\Users\\\\ritis\\\\Documents\\\\Jupyter Notebook Files\\\\Flask\\\\Flask Large Project - Social Company Blog_104_117')"
   ]
  },
  {
   "cell_type": "code",
   "execution_count": 19,
   "metadata": {},
   "outputs": [
    {
     "data": {
      "text/plain": [
       "'C:\\\\Users\\\\ritis\\\\Documents\\\\Jupyter Notebook Files\\\\Flask\\\\Flask Large Project - Social Company Blog_104_117'"
      ]
     },
     "execution_count": 19,
     "metadata": {},
     "output_type": "execute_result"
    }
   ],
   "source": [
    "os.getcwd()"
   ]
  },
  {
   "cell_type": "code",
   "execution_count": 24,
   "metadata": {},
   "outputs": [],
   "source": [
    "from PIL import Image"
   ]
  },
  {
   "cell_type": "code",
   "execution_count": 21,
   "metadata": {},
   "outputs": [],
   "source": [
    "from flask import url_for, current_app"
   ]
  },
  {
   "cell_type": "code",
   "execution_count": 28,
   "metadata": {},
   "outputs": [],
   "source": [
    "def add_profile_pic(pic_upload, username):\n",
    "    filename = pic_upload.filename\n",
    "    ext_type = filename.split('.')[-1]\n",
    "    storage_filename = str(username) + '.' + ext_type\n",
    "    \n",
    "    file_path = os.path.join(current_app.root_path, 'static\\profile_pics', 'storage')\n",
    "    output_size = (200,200)\n",
    "    \n",
    "    pic = Image.open(fp = pic_upload)\n",
    "    pic.thumbnail(output_size = (200,200))\n",
    "    pic.save(filepath)\n",
    "    \n",
    "    return storage_filename"
   ]
  },
  {
   "cell_type": "code",
   "execution_count": null,
   "metadata": {},
   "outputs": [],
   "source": []
  }
 ],
 "metadata": {
  "kernelspec": {
   "display_name": "Python 3",
   "language": "python",
   "name": "python3"
  },
  "language_info": {
   "codemirror_mode": {
    "name": "ipython",
    "version": 3
   },
   "file_extension": ".py",
   "mimetype": "text/x-python",
   "name": "python",
   "nbconvert_exporter": "python",
   "pygments_lexer": "ipython3",
   "version": "3.6.9"
  }
 },
 "nbformat": 4,
 "nbformat_minor": 2
}
