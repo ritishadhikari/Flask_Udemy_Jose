{
 "cells": [
  {
   "cell_type": "code",
   "execution_count": 3,
   "metadata": {},
   "outputs": [],
   "source": [
    "from flask import Flask, render_template, request, redirect, url_for"
   ]
  },
  {
   "cell_type": "code",
   "execution_count": 4,
   "metadata": {},
   "outputs": [],
   "source": [
    "import os"
   ]
  },
  {
   "cell_type": "code",
   "execution_count": 5,
   "metadata": {},
   "outputs": [],
   "source": [
    "# setting up an environment variable locally\n",
    "os.environ['OAUTHLIB_INSECURE_TRANSPORT'] = '1'\n",
    "os.environ['OAUTHLIB_RELAX_TOKEN_SCOPE'] = '1'"
   ]
  },
  {
   "cell_type": "code",
   "execution_count": 6,
   "metadata": {},
   "outputs": [],
   "source": [
    "from flask_dance.contrib.google import google, make_google_blueprint"
   ]
  },
  {
   "cell_type": "code",
   "execution_count": 12,
   "metadata": {},
   "outputs": [],
   "source": [
    "app = Flask(import_name='__name__')\n",
    "\n",
    "app.config['SECRET_KEY'] = 'mysecret'\n",
    "\n",
    "blueprint = make_google_blueprint(client_id='667365810212-m5ekd6lg3u5g7gs2kc4gbh19n2rpsbdq.apps.googleusercontent.com', \n",
    "                                  client_secret= '4t2xyD9tc1UK2qZtFpxDUWsb', offline= True, scope= ['profile', 'email'])\n",
    "\n",
    "app.register_blueprint(blueprint = blueprint, url_prefix = '/login')\n",
    "\n",
    "@app.route(rule = '/')\n",
    "def index():\n",
    "    return render_template(template_name_or_list= 'home.html')\n",
    "\n",
    "@app.route(rule = '/welcome')\n",
    "def welcome():\n",
    "    # Return internal server error if user is not logged in\n",
    "    resp = google.get('/oauth2/v2/userinfo')\n",
    "    assert resp.ok, resp.text\n",
    "    email = resp.json()['email']\n",
    "    return render_template('welcome.html', email = email)\n",
    "\n",
    "@app.route('/login/google')\n",
    "def login():\n",
    "    if not google.authorized:\n",
    "        #if the user is not logged in then take the user to the login page of google\n",
    "        return render_template(template_name_or_list=url_for(endpoint = 'google.login'))\n",
    "    resp = google.get('/oauth2/v2/userinfo')\n",
    "    assert resp.ok, resp.text\n",
    "    email = resp.json()['email']\n",
    "    return render_template('welcome.html', email = email)"
   ]
  },
  {
   "cell_type": "code",
   "execution_count": 13,
   "metadata": {},
   "outputs": [
    {
     "name": "stdout",
     "output_type": "stream",
     "text": [
      " * Serving Flask app \"__name__\" (lazy loading)\n",
      " * Environment: production\n",
      "   WARNING: Do not use the development server in a production environment.\n",
      "   Use a production WSGI server instead.\n",
      " * Debug mode: off\n"
     ]
    },
    {
     "name": "stderr",
     "output_type": "stream",
     "text": [
      " * Running on http://127.0.0.1:5000/ (Press CTRL+C to quit)\n",
      "127.0.0.1 - - [29/Apr/2020 20:01:08] \"GET / HTTP/1.1\" 200 -\n",
      "127.0.0.1 - - [29/Apr/2020 20:01:17] \"GET /login/google HTTP/1.1\" 302 -\n",
      "127.0.0.1 - - [29/Apr/2020 20:01:18] \"GET /login/google/authorized?state=X3w5mdFV3gwjn1iNdG8dWjomlyDvgr&code=4%2FzAFyIbMHCPMcOTB7Cp4PDg46ABnR8G-YvttK4LKla3PFsm9Ly8P54x0TPaiyyv76uR8eIAkIQSj9LqxdZmr3xSw&scope=email+profile+openid+https%3A%2F%2Fwww.googleapis.com%2Fauth%2Fuserinfo.profile+https%3A%2F%2Fwww.googleapis.com%2Fauth%2Fuserinfo.email&authuser=0&prompt=none HTTP/1.1\" 302 -\n",
      "127.0.0.1 - - [29/Apr/2020 20:01:18] \"GET / HTTP/1.1\" 200 -\n",
      "127.0.0.1 - - [29/Apr/2020 20:01:44] \"GET /welcome HTTP/1.1\" 200 -\n",
      "127.0.0.1 - - [29/Apr/2020 20:01:54] \"GET /login/google HTTP/1.1\" 302 -\n",
      "127.0.0.1 - - [29/Apr/2020 20:01:56] \"GET /login/google/authorized?state=5xvMu0sM9ihkpb89apJdeAnGZPyVw5&code=4%2FzAE6fNiHg7PvLsU1bqhnqDMNuIdW2BUYyE3uLF60kmRV8LPwurdzwuJKJw_0WIIeCjENgVkz4cFMFk1aQy9igcU&scope=email+profile+https%3A%2F%2Fwww.googleapis.com%2Fauth%2Fuserinfo.email+openid+https%3A%2F%2Fwww.googleapis.com%2Fauth%2Fuserinfo.profile&authuser=0&prompt=none HTTP/1.1\" 302 -\n",
      "127.0.0.1 - - [29/Apr/2020 20:01:56] \"GET / HTTP/1.1\" 200 -\n"
     ]
    }
   ],
   "source": [
    "if __name__ == '__main__':\n",
    "    app.run()"
   ]
  },
  {
   "cell_type": "code",
   "execution_count": null,
   "metadata": {},
   "outputs": [],
   "source": []
  }
 ],
 "metadata": {
  "kernelspec": {
   "display_name": "Python 3",
   "language": "python",
   "name": "python3"
  },
  "language_info": {
   "codemirror_mode": {
    "name": "ipython",
    "version": 3
   },
   "file_extension": ".py",
   "mimetype": "text/x-python",
   "name": "python",
   "nbconvert_exporter": "python",
   "pygments_lexer": "ipython3",
   "version": "3.6.9"
  }
 },
 "nbformat": 4,
 "nbformat_minor": 2
}
