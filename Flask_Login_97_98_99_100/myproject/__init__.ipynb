{
 "cells": [
  {
   "cell_type": "code",
   "execution_count": 1,
   "metadata": {},
   "outputs": [],
   "source": [
    "import os\n",
    "from flask import Flask\n",
    "from flask_sqlalchemy import SQLAlchemy\n",
    "from flask_migrate import Migrate\n",
    "from flask_login import LoginManager"
   ]
  },
  {
   "cell_type": "code",
   "execution_count": 2,
   "metadata": {},
   "outputs": [],
   "source": [
    "app = Flask(import_name = __name__)\n",
    "\n",
    "######  For Flask Form Purpose   ######\n",
    "app.config['SECRET_KEY'] = 'mysecretkey'\n",
    "\n",
    "######  For the Purpose of Connecting the Database with Flask   ######\n",
    "basedir = os.path.abspath(path=os.path.dirname(p = '__file__'))\n",
    "app.config['SQLALCHEMY_DATABASE_URI'] = 'sqlite:///' + os.path.join(basedir, 'datalogin.sqlite')\n",
    "app.config['SQLALCHEMY_TRACK_MODIFICATIONS'] = False\n",
    "DB = SQLAlchemy(app = app)\n",
    "\n",
    "######  For Login Purpose   ######\n",
    "login_manager = LoginManager()\n",
    "login_manager.init_app(app = app)\n",
    "login_manager.login_view = 'login'\n"
   ]
  },
  {
   "cell_type": "code",
   "execution_count": 3,
   "metadata": {},
   "outputs": [
    {
     "data": {
      "text/plain": [
       "'C:\\\\Users\\\\ritis\\\\Documents\\\\Jupyter Notebook Files\\\\Flask\\\\Flask_Login_97_98_99_100\\\\myproject'"
      ]
     },
     "execution_count": 3,
     "metadata": {},
     "output_type": "execute_result"
    }
   ],
   "source": [
    "basedir"
   ]
  },
  {
   "cell_type": "code",
   "execution_count": null,
   "metadata": {},
   "outputs": [],
   "source": []
  }
 ],
 "metadata": {
  "kernelspec": {
   "display_name": "Python 3",
   "language": "python",
   "name": "python3"
  },
  "language_info": {
   "codemirror_mode": {
    "name": "ipython",
    "version": 3
   },
   "file_extension": ".py",
   "mimetype": "text/x-python",
   "name": "python",
   "nbconvert_exporter": "python",
   "pygments_lexer": "ipython3",
   "version": "3.6.9"
  }
 },
 "nbformat": 4,
 "nbformat_minor": 2
}
