{
 "cells": [
  {
   "cell_type": "code",
   "execution_count": 9,
   "metadata": {},
   "outputs": [],
   "source": [
    "from flask import Flask\n",
    "from flask_restful import Resource, Api\n",
    "from ipynb.fs.full.Secure_Check_Authorization_121 import authenticate, identity\n",
    "from flask_jwt import JWT, jwt_required\n",
    "from flask_sqlalchemy import SQLAlchemy\n",
    "import os"
   ]
  },
  {
   "cell_type": "code",
   "execution_count": 10,
   "metadata": {},
   "outputs": [
    {
     "data": {
      "text/plain": [
       "'C:\\\\Users\\\\ritis\\\\Documents\\\\Jupyter Notebook Files\\\\Flask\\\\REST_119_122'"
      ]
     },
     "execution_count": 10,
     "metadata": {},
     "output_type": "execute_result"
    }
   ],
   "source": [
    "os.getcwd()"
   ]
  },
  {
   "cell_type": "code",
   "execution_count": 11,
   "metadata": {},
   "outputs": [
    {
     "name": "stderr",
     "output_type": "stream",
     "text": [
      "C:\\Users\\ritis\\Anaconda3\\envs\\mynewflaskenv\\lib\\site-packages\\flask_sqlalchemy\\__init__.py:794: FSADeprecationWarning: SQLALCHEMY_TRACK_MODIFICATIONS adds significant overhead and will be disabled by default in the future.  Set it to True or False to suppress this warning.\n",
      "  'SQLALCHEMY_TRACK_MODIFICATIONS adds significant overhead and '\n"
     ]
    }
   ],
   "source": [
    "app = Flask(import_name = __name__)\n",
    "app.config['SECRET_KEY'] = 'mysecretkey'\n",
    "\n",
    "base_dir = os.path.abspath(path = os.path.dirname(p = '__file__'))\n",
    "\n",
    "app.config['SQLALCHEMY_DATABASE_URI'] = 'sqlite:///' + os.path.join(base_dir, 'data.sqlite')\n",
    "app.config['SQL_ALCHEMY_TRACK_MODIFICATIONS'] = False\n",
    "\n",
    "db = SQLAlchemy(app = app)\n",
    "api = Api(app = app)\n",
    "jwt = JWT(app= app, authentication_handler=authenticate, identity_handler=identity)\n",
    "\n",
    "\n",
    "\n",
    "# The format to be stored in the list will be like : [{'name' :'Ritish'},{'name' : 'Rohit'}]\n",
    "#puppies = []\n",
    "\n",
    "class Puppy(db.Model):\n",
    "    name = db.Column(db.String(length = 80), primary_key = True)\n",
    "    \n",
    "    def __init__(self, name):\n",
    "        self.name = name\n",
    "        \n",
    "    def json(self):\n",
    "        return {'name' : self.name}\n",
    "    \n",
    "\n",
    "class PuppyNames(Resource):\n",
    "    \n",
    "    def get(self, name):  \n",
    "#         for pup in puppies:\n",
    "#             if pup['name'] == name:\n",
    "#                 return pup\n",
    "#         return {'name' : None}, 404\n",
    "\n",
    "        pup = Puppy.query.filter_by(name = name).first()\n",
    "        if pup:\n",
    "            return pup.json()\n",
    "        else:\n",
    "            return {'name' : None}, 404\n",
    "            \n",
    "    \n",
    "    \n",
    "    def post(self, name):\n",
    "#         pup = {'name' : name}\n",
    "#         puppies.append(pup)\n",
    "#         return pup\n",
    "    \n",
    "        pup = Puppy(name = name)\n",
    "        db.session.add(pup)\n",
    "        db.session.commit()\n",
    "        return pup.json()\n",
    "        \n",
    "        \n",
    "    \n",
    "    def delete(self, name):  \n",
    "#         for ind, pup in enumerate(puppies):\n",
    "#             if pup['name'] == name:\n",
    "#                 deleted_pup = puppies.pop(ind)\n",
    "#                 return {'note': 'Delete Successful'}\n",
    "            \n",
    "#             return {'name' : None}, 404\n",
    "\n",
    "        pup = Puppy.query.filter_by(name = name).first()\n",
    "        if pup : \n",
    "            db.session.delete(pup)\n",
    "            db.session.commit()\n",
    "    \n",
    "            return {'note' : 'Delete Successful'}\n",
    "        else :\n",
    "            return {'name' : None}, 404\n",
    "\n",
    "\n",
    "# class to generate all the presently available puppies\n",
    "\n",
    "class Allnames(Resource):\n",
    "    \n",
    "    #@jwt_required()\n",
    "    def get(self):\n",
    "#         return {'puppies' : puppies}\n",
    "        puppies = Puppy.query.all()\n",
    "        return [pup.json() for pup in puppies]\n",
    "\n",
    "\n",
    "api.add_resource(PuppyNames, '/puppy/<string:name>')\n",
    "api.add_resource(Allnames, '/puppies')"
   ]
  },
  {
   "cell_type": "code",
   "execution_count": 12,
   "metadata": {},
   "outputs": [],
   "source": [
    "db.create_all()"
   ]
  },
  {
   "cell_type": "code",
   "execution_count": null,
   "metadata": {},
   "outputs": [
    {
     "name": "stdout",
     "output_type": "stream",
     "text": [
      " * Serving Flask app \"__main__\" (lazy loading)\n",
      " * Environment: production\n",
      "   WARNING: Do not use the development server in a production environment.\n",
      "   Use a production WSGI server instead.\n",
      " * Debug mode: on\n"
     ]
    },
    {
     "name": "stderr",
     "output_type": "stream",
     "text": [
      " * Running on http://127.0.0.1:5000/ (Press CTRL+C to quit)\n",
      "127.0.0.1 - - [22/Nov/2019 08:32:04] \"POST /puppy/Avik HTTP/1.1\" 200 -\n",
      "127.0.0.1 - - [22/Nov/2019 08:32:10] \"POST /puppy/Antik HTTP/1.1\" 200 -\n",
      "127.0.0.1 - - [22/Nov/2019 08:32:22] \"POST /puppy/Ritish HTTP/1.1\" 200 -\n",
      "127.0.0.1 - - [22/Nov/2019 08:32:28] \"GET /puppy/Ritish HTTP/1.1\" 200 -\n",
      "127.0.0.1 - - [22/Nov/2019 08:32:35] \"GET /puppy/Ritish HTTP/1.1\" 200 -\n",
      "127.0.0.1 - - [22/Nov/2019 08:32:42] \"GET /puppies HTTP/1.1\" 200 -\n",
      "127.0.0.1 - - [22/Nov/2019 08:34:46] \"DELETE /puppy/Ritish HTTP/1.1\" 200 -\n",
      "127.0.0.1 - - [22/Nov/2019 08:34:56] \"GET /puppies HTTP/1.1\" 200 -\n",
      "127.0.0.1 - - [22/Nov/2019 08:35:31] \"GET /puppy/Ritish HTTP/1.1\" 404 -\n"
     ]
    }
   ],
   "source": [
    "if __name__ == '__main__':\n",
    "    app.run(debug=True, use_reloader = False)"
   ]
  },
  {
   "cell_type": "code",
   "execution_count": null,
   "metadata": {},
   "outputs": [],
   "source": []
  }
 ],
 "metadata": {
  "kernelspec": {
   "display_name": "Python 3",
   "language": "python",
   "name": "python3"
  },
  "language_info": {
   "codemirror_mode": {
    "name": "ipython",
    "version": 3
   },
   "file_extension": ".py",
   "mimetype": "text/x-python",
   "name": "python",
   "nbconvert_exporter": "python",
   "pygments_lexer": "ipython3",
   "version": "3.6.9"
  }
 },
 "nbformat": 4,
 "nbformat_minor": 2
}
