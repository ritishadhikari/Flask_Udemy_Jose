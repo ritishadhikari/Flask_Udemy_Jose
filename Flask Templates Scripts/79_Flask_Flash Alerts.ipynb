{
 "cells": [
  {
   "cell_type": "code",
   "execution_count": 11,
   "metadata": {},
   "outputs": [],
   "source": [
    "from flask import Flask, render_template, redirect, url_for,session, flash\n",
    "from flask_wtf import FlaskForm\n",
    "from wtforms import StringField, SubmitField\n",
    "from wtforms.validators import DataRequired\n",
    "import time"
   ]
  },
  {
   "cell_type": "code",
   "execution_count": 12,
   "metadata": {},
   "outputs": [],
   "source": [
    "app = Flask(import_name= __name__, static_folder= 'static', template_folder= 'templates')\n",
    "\n",
    "app.config['SECRET_KEY'] = 'kmykey'\n",
    "\n",
    "class SimpleForm(FlaskForm):\n",
    "    \n",
    "    breed = StringField(\"What Breed are You?\", validators = [DataRequired()])\n",
    "    submit = SubmitField(\"Click Me.\")\n",
    "    \n",
    "@app.route('/', methods = ['GET','POST'])\n",
    "def index():\n",
    "    form = SimpleForm()\n",
    "    if form.validate_on_submit():\n",
    "        session['breed'] = form.breed.data\n",
    "        flash(message = f\"You just updated your breed to {session['breed']}\")\n",
    "        #time.sleep(8)\n",
    "        return redirect(location = url_for(endpoint = 'index'))\n",
    "    return render_template(template_name_or_list= 'Flask_Flash_Index_79.html', form = form)"
   ]
  },
  {
   "cell_type": "code",
   "execution_count": 13,
   "metadata": {},
   "outputs": [
    {
     "name": "stdout",
     "output_type": "stream",
     "text": [
      " * Serving Flask app \"__main__\" (lazy loading)\n",
      " * Environment: production\n",
      "   WARNING: Do not use the development server in a production environment.\n",
      "   Use a production WSGI server instead.\n",
      " * Debug mode: on\n"
     ]
    },
    {
     "name": "stderr",
     "output_type": "stream",
     "text": [
      " * Running on http://127.0.0.1:5000/ (Press CTRL+C to quit)\n",
      "127.0.0.1 - - [26/Apr/2020 13:45:53] \"GET / HTTP/1.1\" 200 -\n",
      "127.0.0.1 - - [26/Apr/2020 13:46:10] \"POST / HTTP/1.1\" 302 -\n",
      "127.0.0.1 - - [26/Apr/2020 13:46:10] \"GET / HTTP/1.1\" 200 -\n"
     ]
    }
   ],
   "source": [
    "if __name__ == '__main__':\n",
    "    app.run(debug = True, use_reloader = False)"
   ]
  },
  {
   "cell_type": "code",
   "execution_count": null,
   "metadata": {},
   "outputs": [],
   "source": []
  }
 ],
 "metadata": {
  "kernelspec": {
   "display_name": "Python 3",
   "language": "python",
   "name": "python3"
  },
  "language_info": {
   "codemirror_mode": {
    "name": "ipython",
    "version": 3
   },
   "file_extension": ".py",
   "mimetype": "text/x-python",
   "name": "python",
   "nbconvert_exporter": "python",
   "pygments_lexer": "ipython3",
   "version": "3.6.9"
  }
 },
 "nbformat": 4,
 "nbformat_minor": 2
}
