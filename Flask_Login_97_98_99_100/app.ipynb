{
 "cells": [
  {
   "cell_type": "code",
   "execution_count": 1,
   "metadata": {},
   "outputs": [],
   "source": [
    "from ipynb.fs.full.myproject import DB, app  #Main\n",
    "from flask import render_template, request, flash, abort, url_for, redirect\n",
    "from flask_login import login_user, logout_user, login_required\n",
    "from ipynb.fs.full.myproject.models import User   #Database\n",
    "from ipynb.fs.full.myproject.forms import RegistrationForm, LoginForm  #Forms"
   ]
  },
  {
   "cell_type": "raw",
   "metadata": {},
   "source": [
    "@app.route('/')\n",
    "def home():\n",
    "    return render_template('home.html')In a Flask application, it is the connectivity between various Databases, forms and views. \n",
    "\n",
    "First we create the Flask app and intergrate with all the necessities of the Databases and the Forms.\n",
    "\n",
    "Then we create the Database Class and the Form Class separately. \n",
    "\n",
    "Then later we create the flask views where we create the base, home and other view. Some views accepts the forms from the form class and \n",
    "the information from the form class is then fed to the databases. \n",
    "\n",
    "The templates are then finally created which can access the individual views from where we can generate the content of the forms. \n",
    "\n",
    "So basically: \n",
    "User_Input --> Templates --> Flask_Forms  -- > Databases"
   ]
  },
  {
   "cell_type": "code",
   "execution_count": 2,
   "metadata": {},
   "outputs": [],
   "source": [
    "\n",
    "@app.route('/')\n",
    "def home():\n",
    "    return render_template(template_name_or_list='home.html')\n",
    "\n",
    "@app.route('/Welcome')\n",
    "@login_required\n",
    "def Welcome_user():\n",
    "    return render_template(template_name_or_list='welcome_user.html')\n",
    "\n",
    "\n",
    "@app.route('/Logout')\n",
    "@login_required\n",
    "def logout():\n",
    "    logout_user()\n",
    "    flash(\"You Logged Out!\")\n",
    "    return redirect(location=url_for(endpoint = 'home'))\n",
    "\n",
    "\n",
    "\n",
    "@app.route('/Login', methods = ['GET', 'POST'])\n",
    "def login():\n",
    "    form = LoginForm()\n",
    "    if form.validate_on_submit():\n",
    "        user = User.query.filter_by(email = form.email.data).first()\n",
    "        if user.check_password(password_dur_login = form.password.data) and user is not None:\n",
    "            login_user(user = user)\n",
    "            flash(message = f\"{form.email.data} logged in Successfully\")\n",
    "            \n",
    "           \n",
    "            \n",
    "            next = request.args.get('next')\n",
    "            if next == None or not next[0] == '/':\n",
    "                next = url_for('Welcome_user')\n",
    "            return redirect(location=next)\n",
    "            \n",
    "    return render_template(template_name_or_list='login.html', form = form)\n",
    "\n",
    "\n",
    "@app.route('/register', methods = ['GET','POST'])\n",
    "def register():\n",
    "    form = RegistrationForm()\n",
    "    if form.validate_on_submit():\n",
    "        user = User(email = form.email.data, username = form.username.data, password=form.password.data)\n",
    "        DB.session.add(user)\n",
    "        DB.session.commit()\n",
    "        flash(message = f\"Thanks for Registration {form.username}\")\n",
    "        return redirect(location=url_for(endpoint =  'login'))\n",
    "    return render_template(template_name_or_list='register.html', form = form)       \n",
    "    \n"
   ]
  },
  {
   "cell_type": "code",
   "execution_count": 3,
   "metadata": {},
   "outputs": [],
   "source": [
    "DB.create_all()"
   ]
  },
  {
   "cell_type": "code",
   "execution_count": 4,
   "metadata": {},
   "outputs": [
    {
     "name": "stdout",
     "output_type": "stream",
     "text": [
      " * Serving Flask app \"ipynb.fs.full.myproject\" (lazy loading)\n",
      " * Environment: production\n",
      "   WARNING: Do not use the development server in a production environment.\n",
      "   Use a production WSGI server instead.\n",
      " * Debug mode: on\n"
     ]
    },
    {
     "name": "stderr",
     "output_type": "stream",
     "text": [
      " * Running on http://127.0.0.1:5000/ (Press CTRL+C to quit)\n",
      "127.0.0.1 - - [29/Apr/2020 17:58:55] \"GET / HTTP/1.1\" 200 -\n",
      "127.0.0.1 - - [29/Apr/2020 17:58:57] \"GET /register HTTP/1.1\" 200 -\n",
      "127.0.0.1 - - [29/Apr/2020 17:58:59] \"GET /register HTTP/1.1\" 200 -\n",
      "127.0.0.1 - - [29/Apr/2020 17:59:01] \"GET /register HTTP/1.1\" 200 -\n",
      "127.0.0.1 - - [29/Apr/2020 17:59:03] \"GET /register HTTP/1.1\" 200 -\n"
     ]
    }
   ],
   "source": [
    "if __name__ == '__main__':\n",
    "    app.run(debug = True, use_reloader = False)"
   ]
  },
  {
   "cell_type": "code",
   "execution_count": null,
   "metadata": {},
   "outputs": [],
   "source": []
  }
 ],
 "metadata": {
  "kernelspec": {
   "display_name": "Python 3",
   "language": "python",
   "name": "python3"
  },
  "language_info": {
   "codemirror_mode": {
    "name": "ipython",
    "version": 3
   },
   "file_extension": ".py",
   "mimetype": "text/x-python",
   "name": "python",
   "nbconvert_exporter": "python",
   "pygments_lexer": "ipython3",
   "version": "3.6.9"
  }
 },
 "nbformat": 4,
 "nbformat_minor": 2
}
