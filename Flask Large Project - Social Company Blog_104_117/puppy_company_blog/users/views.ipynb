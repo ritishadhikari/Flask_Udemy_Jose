{
 "cells": [
  {
   "cell_type": "code",
   "execution_count": 10,
   "metadata": {},
   "outputs": [],
   "source": [
    "from flask import render_template, url_for, flash, redirect, request, Blueprint\n",
    "from flask_login import login_user, login_required, logout_user, current_user"
   ]
  },
  {
   "cell_type": "code",
   "execution_count": 2,
   "metadata": {},
   "outputs": [
    {
     "data": {
      "text/plain": [
       "'C:\\\\Users\\\\ritis\\\\Documents\\\\Jupyter Notebook Files\\\\Flask\\\\Flask Large Project - Social Company Blog_104_117\\\\puppy_company_blog\\\\users'"
      ]
     },
     "execution_count": 2,
     "metadata": {},
     "output_type": "execute_result"
    }
   ],
   "source": [
    "import os\n",
    "os.getcwd()"
   ]
  },
  {
   "cell_type": "code",
   "execution_count": 3,
   "metadata": {},
   "outputs": [],
   "source": [
    "os.chdir('C:\\\\Users\\\\ritis\\\\Documents\\\\Jupyter Notebook Files\\\\Flask\\\\Flask Large Project - Social Company Blog_104_117')"
   ]
  },
  {
   "cell_type": "code",
   "execution_count": 4,
   "metadata": {},
   "outputs": [],
   "source": [
    "from ipynb.fs.full.puppy_company_blog import db, loginmanager"
   ]
  },
  {
   "cell_type": "code",
   "execution_count": 6,
   "metadata": {},
   "outputs": [],
   "source": [
    "from ipynb.fs.full.puppy_company_blog.models import User, Blogpost\n"
   ]
  },
  {
   "cell_type": "code",
   "execution_count": 8,
   "metadata": {},
   "outputs": [],
   "source": [
    "from ipynb.fs.full.puppy_company_blog.users.forms import LoginForm, RegistrationForm, UpdateUserForm"
   ]
  },
  {
   "cell_type": "code",
   "execution_count": 9,
   "metadata": {},
   "outputs": [],
   "source": [
    "from ipynb.fs.full.puppy_company_blog.users.picture_handlers import add_profile_pic"
   ]
  },
  {
   "cell_type": "code",
   "execution_count": 11,
   "metadata": {},
   "outputs": [],
   "source": [
    "users = Blueprint(name = 'users', import_name= __name__)"
   ]
  },
  {
   "cell_type": "code",
   "execution_count": 17,
   "metadata": {},
   "outputs": [],
   "source": [
    "#logout\n",
    "@users.route(rule = '/logout')\n",
    "def logout():\n",
    "    logout_user()\n",
    "    return redirect(location=url_for(endpoint = 'core.index'))\n",
    "\n",
    "#registration\n",
    "@users.route(rule = '/register', methods = ['GET', 'POST'])\n",
    "def register():\n",
    "    form = RegistrationForm()\n",
    "    if form.validate_on_submit():\n",
    "        user = User(email = form.email.data, username = form.username.data, password = form.password.data)\n",
    "        db.session.add(user)\n",
    "        db.session.commit()\n",
    "        flash(message = 'Thanks for Registration')\n",
    "        redirect(location=url_for(endpoint = 'users.login'))  \n",
    "    return render_template(template_name_or_list = 'register.html', form = form)\n",
    "\n",
    "#login\n",
    "@users.route(rule = '/login', methods = ['GET', 'POST'])\n",
    "def login():\n",
    "    form = LoginForm()\n",
    "    if form.validate_on_submit():\n",
    "        user = User.query.filter_by(email = form.email.data).first()\n",
    "        \n",
    "        if user.check_password(password = form.password.data) and user is not None:\n",
    "            login_user(user = user)\n",
    "            flash(message= 'Login is Successful')\n",
    "        \n",
    "            next = request.args.get('next')\n",
    "            if next == None or not next[0] == '/':\n",
    "                next = url_for(endpoint = 'core.index')\n",
    "            return redirect(location=next) \n",
    "   \n",
    "    return render_template(template_name_or_list= 'login.html', form = form)\n",
    "\n",
    "#account (update user form page)\n",
    "@users.route(rule = '/account', methods = ['GET', 'POST'])\n",
    "@login_required\n",
    "def account():\n",
    "    form = UpdateUserForm()\n",
    "    if form.validate_on_submit():\n",
    "        if form.picture.data:\n",
    "            username = current_user.username\n",
    "            pic = add_profile_pic(pic_upload= form.picture.data , username = username)\n",
    "            current_user.profile_image = pic\n",
    "        current_user.username = form.username.data\n",
    "        current_user.email = form.email.data\n",
    "        db.session.commit()\n",
    "        flash('User account has been updated !')\n",
    "        return redirect(location = url_for(endpoint = 'users.account'))\n",
    "    \n",
    "    elif request.method == 'GET':\n",
    "        current_user.username = form.username.data\n",
    "        current_user.email = form.email.data\n",
    "    profile_image = url_for(endpoint = 'static', filename = 'profile_pics/'+ current_user.profile_image)\n",
    "    return render_template(template_name_or_list= 'account.html', profile_image = profile_image, form = form)\n",
    "\n",
    "#users blogpost \n",
    "@users.route(\"/<username>\")\n",
    "def user_post(username):\n",
    "    page = request.args.get('page', 1, type = int)\n",
    "    user = user.query.filter_by(username = username).first_or_404()\n",
    "    blog_posts = BlogPost.query.filter_by(author = user).order_by(BlogPost.date.desc()).paginate(page = page, per_page = 5)\n",
    "    return render_template(template_name_or_list='user_blog_posts.html', blog_posts = blog_posts, user = user)"
   ]
  },
  {
   "cell_type": "code",
   "execution_count": null,
   "metadata": {},
   "outputs": [],
   "source": []
  }
 ],
 "metadata": {
  "kernelspec": {
   "display_name": "Python 3",
   "language": "python",
   "name": "python3"
  },
  "language_info": {
   "codemirror_mode": {
    "name": "ipython",
    "version": 3
   },
   "file_extension": ".py",
   "mimetype": "text/x-python",
   "name": "python",
   "nbconvert_exporter": "python",
   "pygments_lexer": "ipython3",
   "version": "3.6.9"
  }
 },
 "nbformat": 4,
 "nbformat_minor": 2
}
