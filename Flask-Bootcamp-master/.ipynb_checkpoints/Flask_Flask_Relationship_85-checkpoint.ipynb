{
 "cells": [
  {
   "cell_type": "code",
   "execution_count": 1,
   "metadata": {},
   "outputs": [],
   "source": [
    "import os\n",
    "from flask import Flask\n",
    "from flask_sqlalchemy import SQLAlchemy\n",
    "from flask_migrate import Migrate"
   ]
  },
  {
   "cell_type": "code",
   "execution_count": 2,
   "metadata": {},
   "outputs": [],
   "source": [
    "base_dir = os.path.abspath(path = os.path.dirname(p = '__file__'))\n",
    "\n",
    "app =  Flask(__name__, static_folder = 'static', template_folder = 'templates')\n",
    "app.config['SQLALCHEMY_DATABASE_URI'] = 'sqlite:///' + os.path.join(base_dir, 'puppy_toy.sqlite')\n",
    "app.config['SQLALCHEMY_TRACK_MODIFICATIONS'] = False\n",
    "\n",
    "db = SQLAlchemy(app = app)\n",
    "Migrate(app=app, db=db)\n",
    "\n",
    "\n",
    "class Puppies(db.Model):\n",
    "    \n",
    "    __tablename__ = 'puppies'\n",
    "    \n",
    "    id = db.Column(db.Integer, primary_key = True)\n",
    "    name = db.Column(db.Text)\n",
    "    \n",
    "    #One to many - Puppies to Many Toys\n",
    "    toys = db.relationship('Toy', backref = 'puppy', lazy = 'dynamic', uselist=True)\n",
    "    \n",
    "    #One to one - One Owner --- One Puppy\n",
    "    owner = db.relationship('Owner', backref= 'puppy', lazy = 'select', uselist=False)\n",
    "    \n",
    "    def __init__(self, name):\n",
    "        self.name = name\n",
    "    \n",
    "    def __repr__(self):\n",
    "        if self.owner:\n",
    "            return f\"Puppy name is {self.name} and Owner's name is {self.owner.name}\"\n",
    "        else:\n",
    "            return f\"Puppy name is {self.name} and has no owner yet!\"\n",
    "         \n",
    "    def report_toys(self):\n",
    "        print(\"Here are my Toys\")\n",
    "        for toy in self.toys:\n",
    "            print(toy.item_name)\n",
    "\n",
    "class Toy(db.Model):\n",
    "    __tablename__ = 'toys'\n",
    "    id = db.Column(db.Integer, primary_key  = True)\n",
    "    item_name = db.Column(db.Integer)\n",
    "    puppy_id = db.Column(db.Integer, db.ForeignKey(column = 'puppies.id'))\n",
    "    \n",
    "    def __init__(self, item_name, puppy_id):\n",
    "        self.item_name = item_name\n",
    "        self.puppy_id = puppy_id\n",
    "\n",
    "class Owner(db.Model):\n",
    "    __table_name__ = 'owners'\n",
    "    id = db.Column(db.Integer, primary_key = True)\n",
    "    name = db.Column(db.Text)\n",
    "    puppy_id = db.Column(db.Integer, db.ForeignKey('puppies.id'))\n",
    "    \n",
    "    def __init__(self, name, puppy_id):\n",
    "        self.name = name\n",
    "        self.puppy_id = puppy_id"
   ]
  },
  {
   "cell_type": "code",
   "execution_count": null,
   "metadata": {},
   "outputs": [],
   "source": []
  }
 ],
 "metadata": {
  "kernelspec": {
   "display_name": "Python 3",
   "language": "python",
   "name": "python3"
  },
  "language_info": {
   "codemirror_mode": {
    "name": "ipython",
    "version": 3
   },
   "file_extension": ".py",
   "mimetype": "text/x-python",
   "name": "python",
   "nbconvert_exporter": "python",
   "pygments_lexer": "ipython3",
   "version": "3.6.9"
  }
 },
 "nbformat": 4,
 "nbformat_minor": 2
}
