{
 "cells": [
  {
   "cell_type": "code",
   "execution_count": 2,
   "metadata": {},
   "outputs": [],
   "source": [
    "from flask import Flask, render_template, request"
   ]
  },
  {
   "cell_type": "code",
   "execution_count": 7,
   "metadata": {},
   "outputs": [],
   "source": [
    "app = Flask(import_name= __name__, static_folder= 'static', template_folder= 'templates')\n",
    "\n",
    "@app.route(rule = '/')\n",
    "def index():\n",
    "    return render_template('Flask_index_73.html')\n",
    "\n",
    "\n",
    "@app.route(rule = '/signup_form')\n",
    "def signup_form():\n",
    "    return render_template('Flask_signup_73.html') \n",
    "\n",
    "# we can recieve get information through the form into our python working file\n",
    "# we can post information from the python working file to the browser through the ginga template\n",
    "\n",
    "@app.route(rule = '/thankyou')\n",
    "def Thank_you():\n",
    "    first = request.args.get('first') # this receives the content stored in first from the signup_form\n",
    "    #first=request.form['first']\n",
    "    last  = request.args.get('last') # this receives the content stored in last from the signup_form\n",
    "    #last=request.form['last']\n",
    "    return render_template('Flask_thankyou_73.html', first=first, last=last)\n",
    "\n",
    "@app.errorhandler(404)\n",
    "def page_not_found(e):\n",
    "    return render_template('Flask_404_73.html'), 404\n",
    "           \n",
    "           "
   ]
  },
  {
   "cell_type": "code",
   "execution_count": null,
   "metadata": {
    "scrolled": true
   },
   "outputs": [
    {
     "name": "stdout",
     "output_type": "stream",
     "text": [
      " * Serving Flask app \"__main__\" (lazy loading)\n",
      " * Environment: production\n",
      "   WARNING: Do not use the development server in a production environment.\n",
      "   Use a production WSGI server instead.\n",
      " * Debug mode: on\n"
     ]
    },
    {
     "name": "stderr",
     "output_type": "stream",
     "text": [
      " * Running on http://127.0.0.1:5000/ (Press CTRL+C to quit)\n",
      "127.0.0.1 - - [18/May/2020 21:18:22] \"GET / HTTP/1.1\" 200 -\n",
      "127.0.0.1 - - [18/May/2020 21:18:24] \"GET /signup_form HTTP/1.1\" 200 -\n",
      "127.0.0.1 - - [18/May/2020 21:18:30] \"GET /thankyou?first=Ritish&last=Adhikari&Submit+Form=Submit HTTP/1.1\" 500 -\n",
      "Traceback (most recent call last):\n",
      "  File \"C:\\Users\\ritis\\Anaconda3\\envs\\mynewflaskenv\\lib\\site-packages\\flask\\app.py\", line 2309, in __call__\n",
      "    return self.wsgi_app(environ, start_response)\n",
      "  File \"C:\\Users\\ritis\\Anaconda3\\envs\\mynewflaskenv\\lib\\site-packages\\flask\\app.py\", line 2295, in wsgi_app\n",
      "    response = self.handle_exception(e)\n",
      "  File \"C:\\Users\\ritis\\Anaconda3\\envs\\mynewflaskenv\\lib\\site-packages\\flask\\app.py\", line 1741, in handle_exception\n",
      "    reraise(exc_type, exc_value, tb)\n",
      "  File \"C:\\Users\\ritis\\Anaconda3\\envs\\mynewflaskenv\\lib\\site-packages\\flask\\_compat.py\", line 35, in reraise\n",
      "    raise value\n",
      "  File \"C:\\Users\\ritis\\Anaconda3\\envs\\mynewflaskenv\\lib\\site-packages\\flask\\app.py\", line 2292, in wsgi_app\n",
      "    response = self.full_dispatch_request()\n",
      "  File \"C:\\Users\\ritis\\Anaconda3\\envs\\mynewflaskenv\\lib\\site-packages\\flask\\app.py\", line 1815, in full_dispatch_request\n",
      "    rv = self.handle_user_exception(e)\n",
      "  File \"C:\\Users\\ritis\\Anaconda3\\envs\\mynewflaskenv\\lib\\site-packages\\flask\\app.py\", line 1718, in handle_user_exception\n",
      "    reraise(exc_type, exc_value, tb)\n",
      "  File \"C:\\Users\\ritis\\Anaconda3\\envs\\mynewflaskenv\\lib\\site-packages\\flask\\_compat.py\", line 35, in reraise\n",
      "    raise value\n",
      "  File \"C:\\Users\\ritis\\Anaconda3\\envs\\mynewflaskenv\\lib\\site-packages\\flask\\app.py\", line 1813, in full_dispatch_request\n",
      "    rv = self.dispatch_request()\n",
      "  File \"C:\\Users\\ritis\\Anaconda3\\envs\\mynewflaskenv\\lib\\site-packages\\flask\\app.py\", line 1799, in dispatch_request\n",
      "    return self.view_functions[rule.endpoint](**req.view_args)\n",
      "  File \"<ipython-input-7-1bd79984644a>\", line 18, in Thank_you\n",
      "    \n",
      "  File \"C:\\Users\\ritis\\Anaconda3\\envs\\mynewflaskenv\\lib\\site-packages\\werkzeug\\datastructures.py\", line 431, in __getitem__\n",
      "    raise exceptions.BadRequestKeyError(key)\n",
      "werkzeug.exceptions.HTTPException.wrap.<locals>.newcls: 400 Bad Request: KeyError: 'first'\n",
      "127.0.0.1 - - [18/May/2020 21:18:30] \"GET /thankyou?__debugger__=yes&cmd=resource&f=style.css HTTP/1.1\" 200 -\n",
      "127.0.0.1 - - [18/May/2020 21:18:30] \"GET /thankyou?__debugger__=yes&cmd=resource&f=jquery.js HTTP/1.1\" 200 -\n",
      "127.0.0.1 - - [18/May/2020 21:18:30] \"GET /thankyou?__debugger__=yes&cmd=resource&f=debugger.js HTTP/1.1\" 200 -\n",
      "127.0.0.1 - - [18/May/2020 21:18:30] \"GET /thankyou?__debugger__=yes&cmd=resource&f=console.png HTTP/1.1\" 200 -\n",
      "127.0.0.1 - - [18/May/2020 21:18:30] \"GET /thankyou?__debugger__=yes&cmd=resource&f=ubuntu.ttf HTTP/1.1\" 200 -\n",
      "127.0.0.1 - - [18/May/2020 21:18:30] \"GET /thankyou?__debugger__=yes&cmd=resource&f=console.png HTTP/1.1\" 200 -\n"
     ]
    }
   ],
   "source": [
    "if __name__ == '__main__':\n",
    "    app.run(debug = True, use_reloader = False)"
   ]
  },
  {
   "cell_type": "code",
   "execution_count": null,
   "metadata": {},
   "outputs": [],
   "source": []
  }
 ],
 "metadata": {
  "kernelspec": {
   "display_name": "Python 3",
   "language": "python",
   "name": "python3"
  },
  "language_info": {
   "codemirror_mode": {
    "name": "ipython",
    "version": 3
   },
   "file_extension": ".py",
   "mimetype": "text/x-python",
   "name": "python",
   "nbconvert_exporter": "python",
   "pygments_lexer": "ipython3",
   "version": "3.6.9"
  }
 },
 "nbformat": 4,
 "nbformat_minor": 2
}
