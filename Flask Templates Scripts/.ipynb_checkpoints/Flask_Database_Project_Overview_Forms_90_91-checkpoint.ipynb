{
 "cells": [
  {
   "cell_type": "code",
   "execution_count": 4,
   "metadata": {},
   "outputs": [],
   "source": [
    "import os\n",
    "from flask_wtf import FlaskForm\n",
    "from wtforms import StringField, SubmitField, IntegerField"
   ]
  },
  {
   "cell_type": "code",
   "execution_count": 5,
   "metadata": {},
   "outputs": [],
   "source": [
    "class Addform(FlaskForm):\n",
    "    name = StringField(\"Name of Puppy: \")\n",
    "    submit = SubmitField(\"Add Puppy\")"
   ]
  },
  {
   "cell_type": "code",
   "execution_count": 6,
   "metadata": {},
   "outputs": [],
   "source": [
    "class DelForm(FlaskForm):\n",
    "    id = IntegerField(\"Id Number of Puppy to Remove: \")\n",
    "    submit = SubmitField(\"Remove Puppy\")"
   ]
  },
  {
   "cell_type": "code",
   "execution_count": 7,
   "metadata": {},
   "outputs": [],
   "source": [
    "class AddOwner(FlaskForm):\n",
    "    name = StringField(\"Name of Owner\")\n",
    "    puppy_id = IntegerField(\"Puppy ID:\")\n",
    "    submit = SubmitField(\"Add owner\")"
   ]
  },
  {
   "cell_type": "code",
   "execution_count": null,
   "metadata": {},
   "outputs": [],
   "source": []
  }
 ],
 "metadata": {
  "kernelspec": {
   "display_name": "Python 3",
   "language": "python",
   "name": "python3"
  },
  "language_info": {
   "codemirror_mode": {
    "name": "ipython",
    "version": 3
   },
   "file_extension": ".py",
   "mimetype": "text/x-python",
   "name": "python",
   "nbconvert_exporter": "python",
   "pygments_lexer": "ipython3",
   "version": "3.6.9"
  }
 },
 "nbformat": 4,
 "nbformat_minor": 2
}
