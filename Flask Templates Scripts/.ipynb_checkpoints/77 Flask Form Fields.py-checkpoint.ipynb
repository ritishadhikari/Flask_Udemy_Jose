{
 "cells": [
  {
   "cell_type": "code",
   "execution_count": 3,
   "metadata": {},
   "outputs": [],
   "source": [
    "from flask import Flask, render_template, session, redirect, url_for, request\n",
    "from flask_wtf import FlaskForm\n",
    "from wtforms import (StringField, BooleanField,\n",
    "                     DateField,DateTimeField, \n",
    "                    RadioField, SelectField, TextField, \n",
    "                    TextAreaField, SubmitField)\n",
    "from wtforms.validators import DataRequired"
   ]
  },
  {
   "cell_type": "code",
   "execution_count": 4,
   "metadata": {},
   "outputs": [],
   "source": [
    "app = Flask(import_name= __name__)\n",
    "app.config['SECRET_KEY'] = 'mysecret'\n",
    "\n",
    "class InfoForm(FlaskForm):\n",
    "    \n",
    "    breed = StringField('What breed are you?', validators = [DataRequired()])\n",
    "    neutered = BooleanField(\"Have you been Neutered?\")\n",
    "    mood = RadioField(\"Please choose your Mood: \", \n",
    "                      choices = [('mood_one','Happy'),('mood_two', 'Excited')])\n",
    "    food_choices = SelectField(u\"Pick Your Favourite food: \", \n",
    "                              choices = [('chi','chicken'),('bf','Beef'),('fish','Fish')])\n",
    "    feedback = TextAreaField()\n",
    "    submit = SubmitField('Submit')\n",
    "    \n",
    "@app.route(rule = '/', methods = ['GET','POST'])\n",
    "def index():\n",
    "    form = InfoForm()\n",
    "    if form.validate_on_submit():  \n",
    "        session['breed'] = form.breed.data\n",
    "        session['neutered'] = form.neutered.data\n",
    "        session['mood'] = form.mood.data\n",
    "        session['food_choices'] = form.food_choices.data\n",
    "        session['feedback'] = form.feedback.data\n",
    "\n",
    "        return redirect(location=url_for(endpoint=('thankyou')))\n",
    "    return render_template(template_name_or_list='Flask_Index_77.html', form = form)\n",
    "\n",
    "@app.route(rule = '/thankyou')\n",
    "def thankyou():\n",
    "       return render_template(template_name_or_list='Flask_Thankyou_77.html')\n",
    "    \n",
    "    "
   ]
  },
  {
   "cell_type": "code",
   "execution_count": null,
   "metadata": {},
   "outputs": [
    {
     "name": "stdout",
     "output_type": "stream",
     "text": [
      " * Serving Flask app \"__main__\" (lazy loading)\n",
      " * Environment: production\n",
      "   WARNING: Do not use the development server in a production environment.\n",
      "   Use a production WSGI server instead.\n",
      " * Debug mode: on\n"
     ]
    },
    {
     "name": "stderr",
     "output_type": "stream",
     "text": [
      " * Running on http://127.0.0.1:5000/ (Press CTRL+C to quit)\n",
      "127.0.0.1 - - [26/Apr/2020 12:45:45] \"POST / HTTP/1.1\" 200 -\n",
      "127.0.0.1 - - [26/Apr/2020 12:47:53] \"POST / HTTP/1.1\" 302 -\n",
      "127.0.0.1 - - [26/Apr/2020 12:47:53] \"GET /thankyou HTTP/1.1\" 200 -\n"
     ]
    }
   ],
   "source": [
    "if __name__ == '__main__':\n",
    "    app.run(debug=True, use_reloader = False)"
   ]
  },
  {
   "cell_type": "code",
   "execution_count": null,
   "metadata": {},
   "outputs": [],
   "source": []
  },
  {
   "cell_type": "code",
   "execution_count": null,
   "metadata": {},
   "outputs": [],
   "source": []
  }
 ],
 "metadata": {
  "kernelspec": {
   "display_name": "Python 3",
   "language": "python",
   "name": "python3"
  },
  "language_info": {
   "codemirror_mode": {
    "name": "ipython",
    "version": 3
   },
   "file_extension": ".py",
   "mimetype": "text/x-python",
   "name": "python",
   "nbconvert_exporter": "python",
   "pygments_lexer": "ipython3",
   "version": "3.6.9"
  }
 },
 "nbformat": 4,
 "nbformat_minor": 2
}
