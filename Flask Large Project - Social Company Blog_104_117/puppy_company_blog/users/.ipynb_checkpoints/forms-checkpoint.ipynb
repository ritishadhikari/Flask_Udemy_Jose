{
 "cells": [
  {
   "cell_type": "code",
   "execution_count": 2,
   "metadata": {},
   "outputs": [],
   "source": [
    "from flask_wtf import FlaskForm\n",
    "from wtforms import StringField, PasswordField, SubmitField\n",
    "from wtforms.validators import DataRequired, Email, EqualTo\n",
    "from wtforms import ValidationError\n",
    "from flask_wtf.file import FileField, FileAllowed\n",
    "from flask_login import current_user"
   ]
  },
  {
   "cell_type": "code",
   "execution_count": 3,
   "metadata": {},
   "outputs": [],
   "source": [
    "import os"
   ]
  },
  {
   "cell_type": "code",
   "execution_count": 4,
   "metadata": {},
   "outputs": [
    {
     "data": {
      "text/plain": [
       "'C:\\\\Users\\\\ritis\\\\Documents\\\\Jupyter Notebook Files\\\\Flask\\\\Flask Large Project - Social Company Blog_104_117\\\\puppy_company_blog\\\\users'"
      ]
     },
     "execution_count": 4,
     "metadata": {},
     "output_type": "execute_result"
    }
   ],
   "source": [
    "os.getcwd()"
   ]
  },
  {
   "cell_type": "code",
   "execution_count": 5,
   "metadata": {},
   "outputs": [],
   "source": [
    "os.chdir(path = 'C:\\\\Users\\\\ritis\\\\Documents\\\\Jupyter Notebook Files\\\\Flask\\\\Flask Large Project - Social Company Blog_104_117')"
   ]
  },
  {
   "cell_type": "code",
   "execution_count": 7,
   "metadata": {},
   "outputs": [],
   "source": [
    "from ipynb.fs.full.puppy_company_blog.models import User\n"
   ]
  },
  {
   "cell_type": "code",
   "execution_count": 8,
   "metadata": {},
   "outputs": [],
   "source": [
    "class LoginForm(FlaskForm):\n",
    "    email = StringField('Email', validators = [DataRequired(), Email()])\n",
    "    password = PasswordField('Pass', validators = [DataRequired()])\n",
    "    submit = SubmitField('Login')                        "
   ]
  },
  {
   "cell_type": "code",
   "execution_count": 11,
   "metadata": {},
   "outputs": [],
   "source": [
    "class RegistrationForm(FlaskForm):\n",
    "    email = StringField('Email', validators = [DataRequired(), Email()])\n",
    "    username = StringField('Username', validators = [DataRequired()])\n",
    "    password = PasswordField('Pass', validators = [DataRequired(), EqualTo(fieldname = 'pass_conf', message  = 'Passwords Must Match')])\n",
    "    pass_conf = PasswordField('Confirm Password', validators = [DataRequired()])\n",
    "    submit = SubmitField('Register')\n",
    "    \n",
    "    def check_email(self, field):\n",
    "        if User.query.filter_by(email = field.data).first():\n",
    "            raise ValidationError(message = 'Your Email has been registered Already')\n",
    "            \n",
    "    def check_username(self, field):\n",
    "        if User.query.filter_by(username = field.data).first():\n",
    "            raise ValidationError(message = 'Your Username has been registered Already')"
   ]
  },
  {
   "cell_type": "code",
   "execution_count": 12,
   "metadata": {},
   "outputs": [],
   "source": [
    "class UpdateUserForm(FlaskForm):\n",
    "    email = StringField('Email', validators = [DataRequired(), Email()])\n",
    "    username = StringField('Username', validators = [DataRequired()])\n",
    "    picture = FileField('Update Profile Picture', validators =[FileAllowed(upload_set= ['jpg','png'])])\n",
    "    submit = SubmitField('Update')\n",
    "    \n",
    "    def check_email(self, field):\n",
    "        if User.query.filter_by(email = field.data).first():\n",
    "            raise ValidationError(message = 'Your Email has been registered Already')\n",
    "            \n",
    "    def check_username(self, field):\n",
    "        if User.query.filter_by(username = field.data).first():\n",
    "            raise ValidationError(message = 'Your Username has been registered Already')"
   ]
  },
  {
   "cell_type": "code",
   "execution_count": null,
   "metadata": {},
   "outputs": [],
   "source": []
  }
 ],
 "metadata": {
  "kernelspec": {
   "display_name": "Python 3",
   "language": "python",
   "name": "python3"
  },
  "language_info": {
   "codemirror_mode": {
    "name": "ipython",
    "version": 3
   },
   "file_extension": ".py",
   "mimetype": "text/x-python",
   "name": "python",
   "nbconvert_exporter": "python",
   "pygments_lexer": "ipython3",
   "version": "3.6.9"
  }
 },
 "nbformat": 4,
 "nbformat_minor": 2
}
