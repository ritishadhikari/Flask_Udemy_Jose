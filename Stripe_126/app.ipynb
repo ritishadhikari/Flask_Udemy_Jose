{
 "cells": [
  {
   "cell_type": "code",
   "execution_count": 1,
   "metadata": {},
   "outputs": [],
   "source": [
    "from flask import Flask, render_template, request, redirect, url_for\n",
    "import stripe"
   ]
  },
  {
   "cell_type": "code",
   "execution_count": 2,
   "metadata": {},
   "outputs": [],
   "source": [
    "app = Flask(import_name= __name__, template_folder='templates', static_folder= 'static')\n",
    "\n",
    "public_key =  \"pk_test_6pRNASCoBOKtIshFeQd4XMUh\"\n",
    "\n",
    "stripe.api_key = \"sk_test_BQokikJOvBiI2HlWgH4olfQ2\"\n",
    "\n",
    "@app.route(rule = '/')\n",
    "def index ():\n",
    "    return render_template('index.html',public_key = public_key)\n",
    "\n",
    "@app.route('/thankyou')\n",
    "def thankyou():\n",
    "    return render_template(\"thankyou.html\")\n",
    "\n",
    "@app.route('/payment', methods = ['POST'])\n",
    "def payment():\n",
    "    \n",
    "    #customer info\n",
    "    customer = stripe.Customer.create(email = request.form['stripeEmail'],\n",
    "                                     source = request.form['stripeToken'])\n",
    "    #payment info\n",
    "    charge = stripe.Charge.create(customer = customer.id,\n",
    "                                 amount = 1999,\n",
    "                                 currency = 'usd',\n",
    "                                 description = 'Donation')\n",
    "    \n",
    "    return redirect(location=url_for(endpoint = 'thankyou'))"
   ]
  },
  {
   "cell_type": "code",
   "execution_count": null,
   "metadata": {},
   "outputs": [
    {
     "name": "stdout",
     "output_type": "stream",
     "text": [
      " * Serving Flask app \"__main__\" (lazy loading)\n",
      " * Environment: production\n",
      "   WARNING: Do not use the development server in a production environment.\n",
      "   Use a production WSGI server instead.\n",
      " * Debug mode: on\n"
     ]
    },
    {
     "name": "stderr",
     "output_type": "stream",
     "text": [
      " * Running on http://127.0.0.1:5000/ (Press CTRL+C to quit)\n",
      "127.0.0.1 - - [22/Nov/2019 10:44:56] \"GET / HTTP/1.1\" 200 -\n",
      "127.0.0.1 - - [22/Nov/2019 10:47:26] \"POST /payment HTTP/1.1\" 302 -\n",
      "127.0.0.1 - - [22/Nov/2019 10:47:26] \"GET /thankyou HTTP/1.1\" 200 -\n"
     ]
    }
   ],
   "source": [
    "if __name__ == '__main__':\n",
    "    app.run(debug = True, use_reloader = False)"
   ]
  },
  {
   "cell_type": "code",
   "execution_count": null,
   "metadata": {},
   "outputs": [],
   "source": []
  }
 ],
 "metadata": {
  "kernelspec": {
   "display_name": "Python 3",
   "language": "python",
   "name": "python3"
  },
  "language_info": {
   "codemirror_mode": {
    "name": "ipython",
    "version": 3
   },
   "file_extension": ".py",
   "mimetype": "text/x-python",
   "name": "python",
   "nbconvert_exporter": "python",
   "pygments_lexer": "ipython3",
   "version": "3.6.9"
  }
 },
 "nbformat": 4,
 "nbformat_minor": 2
}
