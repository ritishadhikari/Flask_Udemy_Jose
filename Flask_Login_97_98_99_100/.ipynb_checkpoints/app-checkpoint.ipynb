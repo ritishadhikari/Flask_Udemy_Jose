{
 "cells": [
  {
   "cell_type": "code",
   "execution_count": 13,
   "metadata": {},
   "outputs": [],
   "source": [
    "from ipynb.fs.full.myproject import DB, app  #Main\n",
    "from flask import render_template, request, flash, abort, url_for, redirect\n",
    "from flask_login import login_user, logout_user, login_required\n",
    "from ipynb.fs.full.myproject.models import User   #Database\n",
    "from ipynb.fs.full.myproject.forms import RegistrationForm, LoginForm  #Forms"
   ]
  },
  {
   "cell_type": "raw",
   "metadata": {},
   "source": [
    "In a Flask application, it is the connectivity between various Databases, forms and views. \n",
    "\n",
    "First we create the Flask app and intergrate with all the necessities of the Databases and the Forms.\n",
    "\n",
    "Then we create the Database Class and the Form Class separately. \n",
    "\n",
    "Then later we create the flask views where we create the base, home and other view. Some views accepts the forms from the form class and \n",
    "the information from the form class is then fed to the databases. \n",
    "\n",
    "The templates are then finally created which can access the individual views from where we can generate the content of the forms. \n",
    "\n",
    "So basically: \n",
    "User_Input --> Templates --> Flask_Forms  -- > Databases"
   ]
  },
  {
   "cell_type": "code",
   "execution_count": 12,
   "metadata": {},
   "outputs": [
    {
     "ename": "AssertionError",
     "evalue": "View function mapping is overwriting an existing endpoint function: home",
     "output_type": "error",
     "traceback": [
      "\u001b[1;31m---------------------------------------------------------------------------\u001b[0m",
      "\u001b[1;31mAssertionError\u001b[0m                            Traceback (most recent call last)",
      "\u001b[1;32m<ipython-input-12-1785295ef85c>\u001b[0m in \u001b[0;36m<module>\u001b[1;34m\u001b[0m\n\u001b[1;32m----> 1\u001b[1;33m \u001b[1;33m@\u001b[0m\u001b[0mapp\u001b[0m\u001b[1;33m.\u001b[0m\u001b[0mroute\u001b[0m\u001b[1;33m(\u001b[0m\u001b[1;34m'/'\u001b[0m\u001b[1;33m)\u001b[0m\u001b[1;33m\u001b[0m\u001b[1;33m\u001b[0m\u001b[0m\n\u001b[0m\u001b[0;32m      2\u001b[0m \u001b[1;32mdef\u001b[0m \u001b[0mhome\u001b[0m\u001b[1;33m(\u001b[0m\u001b[1;33m)\u001b[0m\u001b[1;33m:\u001b[0m\u001b[1;33m\u001b[0m\u001b[1;33m\u001b[0m\u001b[0m\n\u001b[0;32m      3\u001b[0m     \u001b[1;32mreturn\u001b[0m \u001b[0mrender_template\u001b[0m\u001b[1;33m(\u001b[0m\u001b[0mtemplate_name_or_list\u001b[0m\u001b[1;33m=\u001b[0m\u001b[1;34m'home.html'\u001b[0m\u001b[1;33m)\u001b[0m\u001b[1;33m\u001b[0m\u001b[1;33m\u001b[0m\u001b[0m\n\u001b[0;32m      4\u001b[0m \u001b[1;33m\u001b[0m\u001b[0m\n\u001b[0;32m      5\u001b[0m \u001b[1;33m@\u001b[0m\u001b[0mapp\u001b[0m\u001b[1;33m.\u001b[0m\u001b[0mroute\u001b[0m\u001b[1;33m(\u001b[0m\u001b[1;34m'/Welcome'\u001b[0m\u001b[1;33m)\u001b[0m\u001b[1;33m\u001b[0m\u001b[1;33m\u001b[0m\u001b[0m\n",
      "\u001b[1;32m~\\Anaconda3\\envs\\mynewflaskenv\\lib\\site-packages\\flask\\app.py\u001b[0m in \u001b[0;36mdecorator\u001b[1;34m(f)\u001b[0m\n\u001b[0;32m   1248\u001b[0m         \u001b[1;32mdef\u001b[0m \u001b[0mdecorator\u001b[0m\u001b[1;33m(\u001b[0m\u001b[0mf\u001b[0m\u001b[1;33m)\u001b[0m\u001b[1;33m:\u001b[0m\u001b[1;33m\u001b[0m\u001b[1;33m\u001b[0m\u001b[0m\n\u001b[0;32m   1249\u001b[0m             \u001b[0mendpoint\u001b[0m \u001b[1;33m=\u001b[0m \u001b[0moptions\u001b[0m\u001b[1;33m.\u001b[0m\u001b[0mpop\u001b[0m\u001b[1;33m(\u001b[0m\u001b[1;34m'endpoint'\u001b[0m\u001b[1;33m,\u001b[0m \u001b[1;32mNone\u001b[0m\u001b[1;33m)\u001b[0m\u001b[1;33m\u001b[0m\u001b[1;33m\u001b[0m\u001b[0m\n\u001b[1;32m-> 1250\u001b[1;33m             \u001b[0mself\u001b[0m\u001b[1;33m.\u001b[0m\u001b[0madd_url_rule\u001b[0m\u001b[1;33m(\u001b[0m\u001b[0mrule\u001b[0m\u001b[1;33m,\u001b[0m \u001b[0mendpoint\u001b[0m\u001b[1;33m,\u001b[0m \u001b[0mf\u001b[0m\u001b[1;33m,\u001b[0m \u001b[1;33m**\u001b[0m\u001b[0moptions\u001b[0m\u001b[1;33m)\u001b[0m\u001b[1;33m\u001b[0m\u001b[1;33m\u001b[0m\u001b[0m\n\u001b[0m\u001b[0;32m   1251\u001b[0m             \u001b[1;32mreturn\u001b[0m \u001b[0mf\u001b[0m\u001b[1;33m\u001b[0m\u001b[1;33m\u001b[0m\u001b[0m\n\u001b[0;32m   1252\u001b[0m         \u001b[1;32mreturn\u001b[0m \u001b[0mdecorator\u001b[0m\u001b[1;33m\u001b[0m\u001b[1;33m\u001b[0m\u001b[0m\n",
      "\u001b[1;32m~\\Anaconda3\\envs\\mynewflaskenv\\lib\\site-packages\\flask\\app.py\u001b[0m in \u001b[0;36mwrapper_func\u001b[1;34m(self, *args, **kwargs)\u001b[0m\n\u001b[0;32m     64\u001b[0m                 \u001b[1;34m'database models and everything related at a central place '\u001b[0m\u001b[1;33m\u001b[0m\u001b[1;33m\u001b[0m\u001b[0m\n\u001b[0;32m     65\u001b[0m                 'before the application starts serving requests.')\n\u001b[1;32m---> 66\u001b[1;33m         \u001b[1;32mreturn\u001b[0m \u001b[0mf\u001b[0m\u001b[1;33m(\u001b[0m\u001b[0mself\u001b[0m\u001b[1;33m,\u001b[0m \u001b[1;33m*\u001b[0m\u001b[0margs\u001b[0m\u001b[1;33m,\u001b[0m \u001b[1;33m**\u001b[0m\u001b[0mkwargs\u001b[0m\u001b[1;33m)\u001b[0m\u001b[1;33m\u001b[0m\u001b[1;33m\u001b[0m\u001b[0m\n\u001b[0m\u001b[0;32m     67\u001b[0m     \u001b[1;32mreturn\u001b[0m \u001b[0mupdate_wrapper\u001b[0m\u001b[1;33m(\u001b[0m\u001b[0mwrapper_func\u001b[0m\u001b[1;33m,\u001b[0m \u001b[0mf\u001b[0m\u001b[1;33m)\u001b[0m\u001b[1;33m\u001b[0m\u001b[1;33m\u001b[0m\u001b[0m\n\u001b[0;32m     68\u001b[0m \u001b[1;33m\u001b[0m\u001b[0m\n",
      "\u001b[1;32m~\\Anaconda3\\envs\\mynewflaskenv\\lib\\site-packages\\flask\\app.py\u001b[0m in \u001b[0;36madd_url_rule\u001b[1;34m(self, rule, endpoint, view_func, provide_automatic_options, **options)\u001b[0m\n\u001b[0;32m   1219\u001b[0m             \u001b[1;32mif\u001b[0m \u001b[0mold_func\u001b[0m \u001b[1;32mis\u001b[0m \u001b[1;32mnot\u001b[0m \u001b[1;32mNone\u001b[0m \u001b[1;32mand\u001b[0m \u001b[0mold_func\u001b[0m \u001b[1;33m!=\u001b[0m \u001b[0mview_func\u001b[0m\u001b[1;33m:\u001b[0m\u001b[1;33m\u001b[0m\u001b[1;33m\u001b[0m\u001b[0m\n\u001b[0;32m   1220\u001b[0m                 raise AssertionError('View function mapping is overwriting an '\n\u001b[1;32m-> 1221\u001b[1;33m                                      'existing endpoint function: %s' % endpoint)\n\u001b[0m\u001b[0;32m   1222\u001b[0m             \u001b[0mself\u001b[0m\u001b[1;33m.\u001b[0m\u001b[0mview_functions\u001b[0m\u001b[1;33m[\u001b[0m\u001b[0mendpoint\u001b[0m\u001b[1;33m]\u001b[0m \u001b[1;33m=\u001b[0m \u001b[0mview_func\u001b[0m\u001b[1;33m\u001b[0m\u001b[1;33m\u001b[0m\u001b[0m\n\u001b[0;32m   1223\u001b[0m \u001b[1;33m\u001b[0m\u001b[0m\n",
      "\u001b[1;31mAssertionError\u001b[0m: View function mapping is overwriting an existing endpoint function: home"
     ]
    }
   ],
   "source": [
    "@app.route('/')\n",
    "def home():\n",
    "    return render_template(template_name_or_list='home.html')\n",
    "\n",
    "@app.route('/Welcome')\n",
    "@login_required\n",
    "def Welcome_user():\n",
    "    return render_template(template_name_or_list='welcome_user.html')\n",
    "\n",
    "\n",
    "@app.route('/Logout')\n",
    "@login_required\n",
    "def logout():\n",
    "    logout_user()\n",
    "    flash(\"You Logged Out!\")\n",
    "    return redirect(location=url_for(endpoint = 'home'))\n",
    "\n",
    "\n",
    "\n",
    "@app.route('/Login', methods = ['GET', 'POST'])\n",
    "def login():\n",
    "    form = LoginForm()\n",
    "    if form.validate_on_submit():\n",
    "        user = User.query.filter_by(email = form.email.data).first()\n",
    "        if user.check_password(password_dur_login = form.password.data) and user is not None:\n",
    "            login_user(user = user)\n",
    "            flash(message = f\"{form.email.data} logged in Successfully\")\n",
    "            \n",
    "            '''\n",
    "            Incase a User did not login and yet he wanted to go to a certain page, then Flask would store that page as next\n",
    "            and upon login Flask would take that user to that page. In Case the User did not want to go any certain page, \n",
    "            then upon Login the User would be take to the Welcome Page\n",
    "            '''\n",
    "            \n",
    "            next = request.args.get('next')\n",
    "            if next == None or not next[0] == '/':\n",
    "                next = url_for('Welcome_user')\n",
    "            return redirect(location=next)\n",
    "            \n",
    "    return render_template(template_name_or_list='login.html', form = form)\n",
    "\n",
    "\n",
    "@app.route('/register', methods = ['GET','POST'])\n",
    "def register():\n",
    "    form = RegistrationForm()\n",
    "    if form.validate_on_submit():\n",
    "        user = User(email = form.email.data, username = form.username.data, password=form.password.data)\n",
    "        DB.session.add(user)\n",
    "        DB.session.commit()\n",
    "        flash(message = f\"Thanks for Registration {form.username}\")\n",
    "        return redirect(location=url_for(endpoint =  'login'))\n",
    "    return render_template(template_name_or_list='register.html', form = form)        "
   ]
  },
  {
   "cell_type": "code",
   "execution_count": 3,
   "metadata": {},
   "outputs": [],
   "source": [
    "DB.create_all()"
   ]
  },
  {
   "cell_type": "code",
   "execution_count": 4,
   "metadata": {},
   "outputs": [
    {
     "name": "stdout",
     "output_type": "stream",
     "text": [
      " * Serving Flask app \"ipynb.fs.full.myproject\" (lazy loading)\n",
      " * Environment: production\n",
      "   WARNING: Do not use the development server in a production environment.\n",
      "   Use a production WSGI server instead.\n",
      " * Debug mode: on\n"
     ]
    },
    {
     "name": "stderr",
     "output_type": "stream",
     "text": [
      " * Running on http://127.0.0.1:5000/ (Press CTRL+C to quit)\n",
      "127.0.0.1 - - [29/Apr/2020 17:23:55] \"GET / HTTP/1.1\" 200 -\n",
      "127.0.0.1 - - [29/Apr/2020 17:23:59] \"GET /Login HTTP/1.1\" 200 -\n",
      "127.0.0.1 - - [29/Apr/2020 17:24:01] \"GET /register HTTP/1.1\" 200 -\n",
      "127.0.0.1 - - [29/Apr/2020 17:24:03] \"GET /register HTTP/1.1\" 200 -\n",
      "127.0.0.1 - - [29/Apr/2020 17:24:04] \"GET /register HTTP/1.1\" 200 -\n",
      "127.0.0.1 - - [29/Apr/2020 17:24:07] \"GET /register HTTP/1.1\" 200 -\n",
      "127.0.0.1 - - [29/Apr/2020 17:24:08] \"GET /register HTTP/1.1\" 200 -\n",
      "127.0.0.1 - - [29/Apr/2020 17:24:09] \"GET /register HTTP/1.1\" 200 -\n",
      "127.0.0.1 - - [29/Apr/2020 17:24:12] \"GET /register HTTP/1.1\" 200 -\n",
      "127.0.0.1 - - [29/Apr/2020 17:24:12] \"GET /register HTTP/1.1\" 200 -\n",
      "127.0.0.1 - - [29/Apr/2020 17:25:08] \"GET /register HTTP/1.1\" 200 -\n",
      "127.0.0.1 - - [29/Apr/2020 17:25:08] \"GET /register HTTP/1.1\" 200 -\n",
      "127.0.0.1 - - [29/Apr/2020 17:25:09] \"GET /register HTTP/1.1\" 200 -\n",
      "127.0.0.1 - - [29/Apr/2020 17:25:09] \"GET /register HTTP/1.1\" 200 -\n",
      "127.0.0.1 - - [29/Apr/2020 17:25:10] \"GET /register HTTP/1.1\" 200 -\n",
      "127.0.0.1 - - [29/Apr/2020 17:25:27] \"GET /Login HTTP/1.1\" 200 -\n",
      "127.0.0.1 - - [29/Apr/2020 17:25:32] \"GET /register HTTP/1.1\" 200 -\n",
      "127.0.0.1 - - [29/Apr/2020 17:25:35] \"GET /register HTTP/1.1\" 200 -\n",
      "127.0.0.1 - - [29/Apr/2020 17:27:24] \"GET /register HTTP/1.1\" 200 -\n",
      "127.0.0.1 - - [29/Apr/2020 17:27:25] \"GET / HTTP/1.1\" 200 -\n",
      "127.0.0.1 - - [29/Apr/2020 17:27:26] \"GET /Login HTTP/1.1\" 200 -\n",
      "127.0.0.1 - - [29/Apr/2020 17:27:27] \"GET /register HTTP/1.1\" 200 -\n",
      "127.0.0.1 - - [29/Apr/2020 17:27:28] \"GET /register HTTP/1.1\" 200 -\n",
      "127.0.0.1 - - [29/Apr/2020 17:27:29] \"GET / HTTP/1.1\" 200 -\n",
      "127.0.0.1 - - [29/Apr/2020 17:27:30] \"GET /Login HTTP/1.1\" 200 -\n",
      "127.0.0.1 - - [29/Apr/2020 17:27:32] \"GET /register HTTP/1.1\" 200 -\n",
      "127.0.0.1 - - [29/Apr/2020 17:27:33] \"GET /Login HTTP/1.1\" 200 -\n",
      "127.0.0.1 - - [29/Apr/2020 17:27:34] \"GET /register HTTP/1.1\" 200 -\n",
      "127.0.0.1 - - [29/Apr/2020 17:27:36] \"GET /register HTTP/1.1\" 200 -\n",
      "127.0.0.1 - - [29/Apr/2020 17:27:37] \"GET /register HTTP/1.1\" 200 -\n",
      "127.0.0.1 - - [29/Apr/2020 17:27:38] \"GET /register HTTP/1.1\" 200 -\n",
      "127.0.0.1 - - [29/Apr/2020 17:27:39] \"GET /register HTTP/1.1\" 200 -\n",
      "127.0.0.1 - - [29/Apr/2020 17:28:01] \"GET /register HTTP/1.1\" 200 -\n",
      "127.0.0.1 - - [29/Apr/2020 17:28:02] \"GET /register HTTP/1.1\" 200 -\n",
      "127.0.0.1 - - [29/Apr/2020 17:28:03] \"GET /register HTTP/1.1\" 200 -\n",
      "127.0.0.1 - - [29/Apr/2020 17:28:12] \"GET /register HTTP/1.1\" 200 -\n",
      "127.0.0.1 - - [29/Apr/2020 17:28:14] \"GET /register HTTP/1.1\" 200 -\n"
     ]
    }
   ],
   "source": [
    "if __name__ == '__main__':\n",
    "    app.run(debug = True, use_reloader = False)"
   ]
  },
  {
   "cell_type": "code",
   "execution_count": null,
   "metadata": {},
   "outputs": [],
   "source": []
  }
 ],
 "metadata": {
  "kernelspec": {
   "display_name": "Python 3",
   "language": "python",
   "name": "python3"
  },
  "language_info": {
   "codemirror_mode": {
    "name": "ipython",
    "version": 3
   },
   "file_extension": ".py",
   "mimetype": "text/x-python",
   "name": "python",
   "nbconvert_exporter": "python",
   "pygments_lexer": "ipython3",
   "version": "3.6.9"
  }
 },
 "nbformat": 4,
 "nbformat_minor": 2
}
